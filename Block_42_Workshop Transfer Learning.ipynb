{
 "cells": [
  {
   "cell_type": "markdown",
   "metadata": {
    "deletable": false,
    "editable": false,
    "id": "mdDxSu7sevcl",
    "nbgrader": {
     "grade": false,
     "locked": true,
     "solution": false
    }
   },
   "source": [
    "# Block 42: Workshop\n",
    "## Face Mask Detection\n",
    "### Scenario\n",
    "\n",
    "After the global pandemic, places like movie theaters across the US are starting to open again. A big part of returning to normal is ensuring people are safe and following guidelines such as wearing face masks. MMC Sercado, a big-shot cinema owner in the US, wants to ensure that masks are worn correctly to maintain safety for all patrons.\n",
    "\n",
    "### Problem Statement\n",
    "You   need to develop a deep learning model using transfer learning to spot and sort the following three situations among the movie crowd:\n",
    "1. Properly adhering to face mask guidelines.\n",
    "2. Incorrectly wearing the face mask.\n",
    "3. Choosing not to wear a mask at all.\n",
    "\n",
    "#### Task:  Build a Transfer Learning model to detect face masks on humans.\n",
    "\n",
    "\n",
    "#### Dataset Description\n",
    "\n",
    "The zip folder contains 2 folders train and test each folder with 3 subfolders labelled as to which class they belong to.\n",
    "\n",
    "The 3 classes are\n",
    "- \"with_mask\"\n",
    "- \"without_mask\"\n",
    "- \"mask_worn_incorrect\"\n",
    "\n",
    "Each image is of shape 128,128,3.\n"
   ]
  },
  {
   "cell_type": "markdown",
   "metadata": {
    "deletable": false,
    "editable": false,
    "nbgrader": {
     "grade": false,
     "locked": true,
     "solution": false
    }
   },
   "source": [
    "Import the necessary libraries"
   ]
  },
  {
   "cell_type": "code",
   "execution_count": 7,
   "metadata": {
    "_cell_guid": "b1076dfc-b9ad-4769-8c92-a6c4dae69d19",
    "_uuid": "8f2839f25d086af736a60e9eeb907d3b93b6e0e5",
    "id": "EV5l-DbCuuII",
    "tags": []
   },
   "outputs": [],
   "source": [
    "import numpy as np\n",
    "import tensorflow as tf\n",
    "from tensorflow import keras\n",
    "import gc\n",
    "from keras import Sequential\n",
    "from keras.layers import Conv2D, MaxPooling2D, Flatten, Dense, BatchNormalization, Dropout\n",
    "#from keras.optimizers import SGD, RMSprop, Adam, Adadelta, Adagrad, Adamax, Nadam, Ftrl\n",
    "from tensorflow.keras.optimizers import Adam\n",
    "\n",
    "\n",
    "from tensorflow.keras.preprocessing.image import ImageDataGenerator\n",
    "from tensorflow.keras.utils import to_categorical\n",
    "\n",
    "import matplotlib.pyplot as plt\n",
    "import matplotlib.image as img\n",
    "import numpy as np\n",
    "import os\n",
    "from PIL import Image\n",
    "import tensorflow as tf\n",
    "import random\n",
    "\n",
    "from tensorflow import keras\n",
    "from tensorflow.keras import layers\n",
    "from tensorflow.keras.models import Sequential\n",
    "from tensorflow.keras.applications import EfficientNetB0, ResNet50\n"
   ]
  },
  {
   "cell_type": "markdown",
   "metadata": {
    "deletable": false,
    "editable": false,
    "id": "yg5Z1OzTuuIV",
    "nbgrader": {
     "grade": false,
     "locked": true,
     "solution": false
    }
   },
   "source": [
    "### **Task A**\n",
    "1. Load the Image Training and Test Datasets from the train and test folder respectively. Each image is of shape 128 x 128 x 3."
   ]
  },
  {
   "cell_type": "code",
   "execution_count": 8,
   "metadata": {
    "deletable": false,
    "editable": false,
    "nbgrader": {
     "grade": true,
     "grade_id": "A1",
     "locked": true,
     "points": "1",
     "solution": false
    }
   },
   "outputs": [],
   "source": [
    "train_data_generator = tf.keras.preprocessing.image.ImageDataGenerator() \n",
    "test_data_generator = tf.keras.preprocessing.image.ImageDataGenerator()"
   ]
  },
  {
   "cell_type": "markdown",
   "metadata": {
    "deletable": false,
    "editable": false,
    "id": "8rTjPg_Mgg9G",
    "nbgrader": {
     "grade": false,
     "locked": true,
     "solution": false
    }
   },
   "source": [
    "2. Load the training dataset using Keras ImageDataGenerator."
   ]
  },
  {
   "cell_type": "code",
   "execution_count": 9,
   "metadata": {
    "colab": {
     "base_uri": "https://localhost:8080/"
    },
    "execution": {
     "iopub.execute_input": "2021-07-31T22:24:18.022492Z",
     "iopub.status.busy": "2021-07-31T22:24:18.022122Z",
     "iopub.status.idle": "2021-07-31T22:24:18.571127Z",
     "shell.execute_reply": "2021-07-31T22:24:18.570379Z",
     "shell.execute_reply.started": "2021-07-31T22:24:18.022422Z"
    },
    "id": "xKv5yim9uuId",
    "outputId": "dd93266c-d4c0-48d0-8758-0d40ad4db55e"
   },
   "outputs": [
    {
     "name": "stdout",
     "output_type": "stream",
     "text": [
      "Found 2904 images belonging to 3 classes.\n"
     ]
    }
   ],
   "source": [
    "train_data = train_data_generator.flow_from_directory(directory = \"C:\\\\Users\\\\arado\\\\Desktop\\\\Items from FULLSTACK\\\\42\\\\face_mask_detection_dataset\\\\train\", target_size = (128, 128), batch_size = 1, shuffle = True)"
   ]
  },
  {
   "cell_type": "markdown",
   "metadata": {
    "id": "nIDI1kWCgmib"
   },
   "source": [
    "3. Load the test dataset using Keras ImageDataGenerator."
   ]
  },
  {
   "cell_type": "code",
   "execution_count": 10,
   "metadata": {
    "colab": {
     "base_uri": "https://localhost:8080/"
    },
    "id": "E1YrRqzkgpNh",
    "outputId": "a984e6f5-77eb-4314-f782-35212573e118"
   },
   "outputs": [
    {
     "name": "stdout",
     "output_type": "stream",
     "text": [
      "Found 308 images belonging to 3 classes.\n"
     ]
    }
   ],
   "source": [
    "test_data = test_data_generator.flow_from_directory(directory = \"C:\\\\Users\\\\arado\\\\Desktop\\\\Items from FULLSTACK\\\\42\\\\face_mask_detection_dataset\\\\test\", target_size = (128, 128), batch_size = 1, shuffle = True)"
   ]
  },
  {
   "cell_type": "markdown",
   "metadata": {
    "deletable": false,
    "editable": false,
    "id": "Wndz8xqR_n_X",
    "nbgrader": {
     "grade": false,
     "locked": true,
     "solution": false
    }
   },
   "source": [
    "There are three labels found: `mask_weared_incorrect`, `with_mask`, and `without_mask`.\n",
    "\n",
    "ImageDataGenerator does not really assign values to an array, it just hold pointers. Because of that every learning step CPU perform reading operations. This very slows learning speed. \n",
    "\n",
    "4. Store the data in a numpy array type."
   ]
  },
  {
   "cell_type": "code",
   "execution_count": 11,
   "metadata": {
    "colab": {
     "base_uri": "https://localhost:8080/"
    },
    "execution": {
     "iopub.execute_input": "2021-07-31T22:24:18.582943Z",
     "iopub.status.busy": "2021-07-31T22:24:18.582516Z",
     "iopub.status.idle": "2021-07-31T22:24:52.797665Z",
     "shell.execute_reply": "2021-07-31T22:24:52.796774Z",
     "shell.execute_reply.started": "2021-07-31T22:24:18.582908Z"
    },
    "id": "r0eM206ZuuIh",
    "outputId": "88d50766-07ec-4dff-9fb4-8d61d4172931"
   },
   "outputs": [
    {
     "data": {
      "text/plain": [
       "<keras.src.legacy.preprocessing.image.DirectoryIterator at 0x21884981480>"
      ]
     },
     "execution_count": 11,
     "metadata": {},
     "output_type": "execute_result"
    }
   ],
   "source": [
    "train_data\n",
    "test_data"
   ]
  },
  {
   "cell_type": "code",
   "execution_count": 12,
   "metadata": {},
   "outputs": [
    {
     "name": "stdout",
     "output_type": "stream",
     "text": [
      "Training data shape: (2904, 128, 128, 3), Training labels shape: (2904,)\n",
      "Test data shape: (308, 128, 128, 3), Test labels shape: (308,)\n"
     ]
    }
   ],
   "source": [
    "import os\n",
    "import numpy as np\n",
    "from tensorflow.keras.preprocessing.image import load_img, img_to_array\n",
    "\n",
    "# Define directories for train and test datasets\n",
    "train_dir = 'C:\\\\Users\\\\arado\\\\Desktop\\\\Items from FULLSTACK\\\\42\\\\face_mask_detection_dataset\\\\train'  # e.g., 'dataset/train'\n",
    "test_dir = 'C:\\\\Users\\\\arado\\\\Desktop\\\\Items from FULLSTACK\\\\42\\\\face_mask_detection_dataset\\\\test'    # e.g., 'dataset/test'\n",
    "\n",
    "categories = ['mask_worn_incorrect', 'with_mask', 'without_mask']\n",
    "\n",
    "# Define image dimensions\n",
    "IMG_SIZE = (128, 128)\n",
    "\n",
    "# Function to load images from a given directory and return numpy arrays\n",
    "def load_data_from_directory(directory):\n",
    "    data = []\n",
    "    labels = []\n",
    "    \n",
    "    # Iterate through each category (subdirectory)\n",
    "    for category in categories:\n",
    "        category_path = os.path.join(directory, category)\n",
    "        label = categories.index(category)  # Assign a label based on category index\n",
    "        \n",
    "        for image_name in os.listdir(category_path):\n",
    "            try:\n",
    "                # Load the image\n",
    "                img_path = os.path.join(category_path, image_name)\n",
    "                img = load_img(img_path, target_size=IMG_SIZE)  # Resize image\n",
    "                img_array = img_to_array(img) / 255.0  # Convert to array and normalize\n",
    "                \n",
    "                # Append to data and labels\n",
    "                data.append(img_array)\n",
    "                labels.append(label)\n",
    "            \n",
    "            except Exception as e:\n",
    "                print(f\"Error loading image {image_name}: {e}\")\n",
    "    \n",
    "    # Convert to numpy arrays\n",
    "    data = np.array(data, dtype=\"float32\")\n",
    "    labels = np.array(labels)\n",
    "    \n",
    "    return data, labels\n",
    "\n",
    "# Load training data\n",
    "X_train, y_train = load_data_from_directory(train_dir)\n",
    "print(f\"Training data shape: {X_train.shape}, Training labels shape: {y_train.shape}\")\n",
    "\n",
    "# Load testing data\n",
    "X_test, y_test = load_data_from_directory(test_dir)\n",
    "print(f\"Test data shape: {X_test.shape}, Test labels shape: {y_test.shape}\")"
   ]
  },
  {
   "cell_type": "markdown",
   "metadata": {
    "deletable": false,
    "editable": false,
    "id": "uMxW5WZMh74Y",
    "nbgrader": {
     "grade": false,
     "locked": true,
     "solution": false
    }
   },
   "source": [
    "5. Build a Transfer Learning network using Keras with the following layers:\n",
    "\n",
    "- EfficientNetB0 as first layers using Keras API.\n",
    "- GLobalAveragePooling2D layer\n",
    "- Dropout(0.2)\n",
    "- Dense layer with 3 neurons and activation softmax\n"
   ]
  },
  {
   "cell_type": "code",
   "execution_count": 13,
   "metadata": {
    "colab": {
     "base_uri": "https://localhost:8080/"
    },
    "execution": {
     "iopub.execute_input": "2021-07-31T22:32:52.179195Z",
     "iopub.status.busy": "2021-07-31T22:32:52.178820Z",
     "iopub.status.idle": "2021-07-31T22:32:54.492283Z",
     "shell.execute_reply": "2021-07-31T22:32:54.491452Z",
     "shell.execute_reply.started": "2021-07-31T22:32:52.179132Z"
    },
    "id": "jDh1y9CBuuIt",
    "outputId": "4dd40c8c-28c5-447f-f4b8-17128ad61cd6"
   },
   "outputs": [
    {
     "name": "stdout",
     "output_type": "stream",
     "text": [
      "AttributeError: module 'ml_dtypes' has no attribute 'float8_e3m4'\n"
     ]
    }
   ],
   "source": [
    "base_model = EfficientNetB0(weights='imagenet', include_top=False, input_shape=(128, 128, 3))\n",
    "# Freeze the base model\n",
    "base_model.trainable = False\n",
    "\n",
    "\n",
    "transfer_model_ENB0 = keras.Sequential([base_model, \n",
    "                                        keras.layers.GlobalAveragePooling2D(),\n",
    "                                        keras.layers.Dropout(0.2),\n",
    "                                        keras.layers.Dense(3, activation='softmax')\n",
    "])\n"
   ]
  },
  {
   "cell_type": "markdown",
   "metadata": {
    "deletable": false,
    "editable": false,
    "id": "PxfjRvafiIz_",
    "nbgrader": {
     "grade": false,
     "locked": true,
     "solution": false
    }
   },
   "source": [
    "6. Compile the model with adam optimizer, categorical_crossentropy loss, and with metrics accuracy."
   ]
  },
  {
   "cell_type": "code",
   "execution_count": 14,
   "metadata": {
    "id": "reqJsQV_iWfL"
   },
   "outputs": [
    {
     "data": {
      "text/html": [
       "<pre style=\"white-space:pre;overflow-x:auto;line-height:normal;font-family:Menlo,'DejaVu Sans Mono',consolas,'Courier New',monospace\"><span style=\"font-weight: bold\">Model: \"sequential\"</span>\n",
       "</pre>\n"
      ],
      "text/plain": [
       "\u001b[1mModel: \"sequential\"\u001b[0m\n"
      ]
     },
     "metadata": {},
     "output_type": "display_data"
    },
    {
     "data": {
      "text/html": [
       "<pre style=\"white-space:pre;overflow-x:auto;line-height:normal;font-family:Menlo,'DejaVu Sans Mono',consolas,'Courier New',monospace\">┏━━━━━━━━━━━━━━━━━━━━━━━━━━━━━━━━━┳━━━━━━━━━━━━━━━━━━━━━━━━┳━━━━━━━━━━━━━━━┓\n",
       "┃<span style=\"font-weight: bold\"> Layer (type)                    </span>┃<span style=\"font-weight: bold\"> Output Shape           </span>┃<span style=\"font-weight: bold\">       Param # </span>┃\n",
       "┡━━━━━━━━━━━━━━━━━━━━━━━━━━━━━━━━━╇━━━━━━━━━━━━━━━━━━━━━━━━╇━━━━━━━━━━━━━━━┩\n",
       "│ efficientnetb0 (<span style=\"color: #0087ff; text-decoration-color: #0087ff\">Functional</span>)     │ (<span style=\"color: #00d7ff; text-decoration-color: #00d7ff\">None</span>, <span style=\"color: #00af00; text-decoration-color: #00af00\">4</span>, <span style=\"color: #00af00; text-decoration-color: #00af00\">4</span>, <span style=\"color: #00af00; text-decoration-color: #00af00\">1280</span>)     │     <span style=\"color: #00af00; text-decoration-color: #00af00\">4,049,571</span> │\n",
       "├─────────────────────────────────┼────────────────────────┼───────────────┤\n",
       "│ global_average_pooling2d        │ (<span style=\"color: #00d7ff; text-decoration-color: #00d7ff\">None</span>, <span style=\"color: #00af00; text-decoration-color: #00af00\">1280</span>)           │             <span style=\"color: #00af00; text-decoration-color: #00af00\">0</span> │\n",
       "│ (<span style=\"color: #0087ff; text-decoration-color: #0087ff\">GlobalAveragePooling2D</span>)        │                        │               │\n",
       "├─────────────────────────────────┼────────────────────────┼───────────────┤\n",
       "│ dropout (<span style=\"color: #0087ff; text-decoration-color: #0087ff\">Dropout</span>)               │ (<span style=\"color: #00d7ff; text-decoration-color: #00d7ff\">None</span>, <span style=\"color: #00af00; text-decoration-color: #00af00\">1280</span>)           │             <span style=\"color: #00af00; text-decoration-color: #00af00\">0</span> │\n",
       "├─────────────────────────────────┼────────────────────────┼───────────────┤\n",
       "│ dense (<span style=\"color: #0087ff; text-decoration-color: #0087ff\">Dense</span>)                   │ (<span style=\"color: #00d7ff; text-decoration-color: #00d7ff\">None</span>, <span style=\"color: #00af00; text-decoration-color: #00af00\">3</span>)              │         <span style=\"color: #00af00; text-decoration-color: #00af00\">3,843</span> │\n",
       "└─────────────────────────────────┴────────────────────────┴───────────────┘\n",
       "</pre>\n"
      ],
      "text/plain": [
       "┏━━━━━━━━━━━━━━━━━━━━━━━━━━━━━━━━━┳━━━━━━━━━━━━━━━━━━━━━━━━┳━━━━━━━━━━━━━━━┓\n",
       "┃\u001b[1m \u001b[0m\u001b[1mLayer (type)                   \u001b[0m\u001b[1m \u001b[0m┃\u001b[1m \u001b[0m\u001b[1mOutput Shape          \u001b[0m\u001b[1m \u001b[0m┃\u001b[1m \u001b[0m\u001b[1m      Param #\u001b[0m\u001b[1m \u001b[0m┃\n",
       "┡━━━━━━━━━━━━━━━━━━━━━━━━━━━━━━━━━╇━━━━━━━━━━━━━━━━━━━━━━━━╇━━━━━━━━━━━━━━━┩\n",
       "│ efficientnetb0 (\u001b[38;5;33mFunctional\u001b[0m)     │ (\u001b[38;5;45mNone\u001b[0m, \u001b[38;5;34m4\u001b[0m, \u001b[38;5;34m4\u001b[0m, \u001b[38;5;34m1280\u001b[0m)     │     \u001b[38;5;34m4,049,571\u001b[0m │\n",
       "├─────────────────────────────────┼────────────────────────┼───────────────┤\n",
       "│ global_average_pooling2d        │ (\u001b[38;5;45mNone\u001b[0m, \u001b[38;5;34m1280\u001b[0m)           │             \u001b[38;5;34m0\u001b[0m │\n",
       "│ (\u001b[38;5;33mGlobalAveragePooling2D\u001b[0m)        │                        │               │\n",
       "├─────────────────────────────────┼────────────────────────┼───────────────┤\n",
       "│ dropout (\u001b[38;5;33mDropout\u001b[0m)               │ (\u001b[38;5;45mNone\u001b[0m, \u001b[38;5;34m1280\u001b[0m)           │             \u001b[38;5;34m0\u001b[0m │\n",
       "├─────────────────────────────────┼────────────────────────┼───────────────┤\n",
       "│ dense (\u001b[38;5;33mDense\u001b[0m)                   │ (\u001b[38;5;45mNone\u001b[0m, \u001b[38;5;34m3\u001b[0m)              │         \u001b[38;5;34m3,843\u001b[0m │\n",
       "└─────────────────────────────────┴────────────────────────┴───────────────┘\n"
      ]
     },
     "metadata": {},
     "output_type": "display_data"
    },
    {
     "data": {
      "text/html": [
       "<pre style=\"white-space:pre;overflow-x:auto;line-height:normal;font-family:Menlo,'DejaVu Sans Mono',consolas,'Courier New',monospace\"><span style=\"font-weight: bold\"> Total params: </span><span style=\"color: #00af00; text-decoration-color: #00af00\">4,053,414</span> (15.46 MB)\n",
       "</pre>\n"
      ],
      "text/plain": [
       "\u001b[1m Total params: \u001b[0m\u001b[38;5;34m4,053,414\u001b[0m (15.46 MB)\n"
      ]
     },
     "metadata": {},
     "output_type": "display_data"
    },
    {
     "data": {
      "text/html": [
       "<pre style=\"white-space:pre;overflow-x:auto;line-height:normal;font-family:Menlo,'DejaVu Sans Mono',consolas,'Courier New',monospace\"><span style=\"font-weight: bold\"> Trainable params: </span><span style=\"color: #00af00; text-decoration-color: #00af00\">3,843</span> (15.01 KB)\n",
       "</pre>\n"
      ],
      "text/plain": [
       "\u001b[1m Trainable params: \u001b[0m\u001b[38;5;34m3,843\u001b[0m (15.01 KB)\n"
      ]
     },
     "metadata": {},
     "output_type": "display_data"
    },
    {
     "data": {
      "text/html": [
       "<pre style=\"white-space:pre;overflow-x:auto;line-height:normal;font-family:Menlo,'DejaVu Sans Mono',consolas,'Courier New',monospace\"><span style=\"font-weight: bold\"> Non-trainable params: </span><span style=\"color: #00af00; text-decoration-color: #00af00\">4,049,571</span> (15.45 MB)\n",
       "</pre>\n"
      ],
      "text/plain": [
       "\u001b[1m Non-trainable params: \u001b[0m\u001b[38;5;34m4,049,571\u001b[0m (15.45 MB)\n"
      ]
     },
     "metadata": {},
     "output_type": "display_data"
    }
   ],
   "source": [
    "# Compile the model\n",
    "transfer_model_ENB0.compile(optimizer='adam', loss='categorical_crossentropy', metrics=['accuracy'])\n",
    "\n",
    "# Print model summary\n",
    "transfer_model_ENB0.summary()"
   ]
  },
  {
   "cell_type": "markdown",
   "metadata": {
    "deletable": false,
    "editable": false,
    "id": "jOCubX0FiR-j",
    "nbgrader": {
     "grade": false,
     "locked": true,
     "solution": false
    }
   },
   "source": [
    "7. Train the model for 4 epochs with callbacks. Reduce learning rate on Plateau and early stopping while monitoring validation loss."
   ]
  },
  {
   "cell_type": "code",
   "execution_count": 15,
   "metadata": {
    "id": "fhArqsr8mILA"
   },
   "outputs": [
    {
     "name": "stdout",
     "output_type": "stream",
     "text": [
      "WARNING:tensorflow:From c:\\Users\\arado\\AppData\\Local\\Programs\\Python\\Python310\\lib\\site-packages\\keras\\src\\backend\\common\\global_state.py:82: The name tf.reset_default_graph is deprecated. Please use tf.compat.v1.reset_default_graph instead.\n",
      "\n"
     ]
    },
    {
     "data": {
      "text/html": [
       "<pre style=\"white-space:pre;overflow-x:auto;line-height:normal;font-family:Menlo,'DejaVu Sans Mono',consolas,'Courier New',monospace\"><span style=\"font-weight: bold\">Model: \"sequential\"</span>\n",
       "</pre>\n"
      ],
      "text/plain": [
       "\u001b[1mModel: \"sequential\"\u001b[0m\n"
      ]
     },
     "metadata": {},
     "output_type": "display_data"
    },
    {
     "data": {
      "text/html": [
       "<pre style=\"white-space:pre;overflow-x:auto;line-height:normal;font-family:Menlo,'DejaVu Sans Mono',consolas,'Courier New',monospace\">┏━━━━━━━━━━━━━━━━━━━━━━━━━━━━━━━━━┳━━━━━━━━━━━━━━━━━━━━━━━━┳━━━━━━━━━━━━━━━┓\n",
       "┃<span style=\"font-weight: bold\"> Layer (type)                    </span>┃<span style=\"font-weight: bold\"> Output Shape           </span>┃<span style=\"font-weight: bold\">       Param # </span>┃\n",
       "┡━━━━━━━━━━━━━━━━━━━━━━━━━━━━━━━━━╇━━━━━━━━━━━━━━━━━━━━━━━━╇━━━━━━━━━━━━━━━┩\n",
       "│ efficientnetb0 (<span style=\"color: #0087ff; text-decoration-color: #0087ff\">Functional</span>)     │ (<span style=\"color: #00d7ff; text-decoration-color: #00d7ff\">None</span>, <span style=\"color: #00af00; text-decoration-color: #00af00\">4</span>, <span style=\"color: #00af00; text-decoration-color: #00af00\">4</span>, <span style=\"color: #00af00; text-decoration-color: #00af00\">1280</span>)     │     <span style=\"color: #00af00; text-decoration-color: #00af00\">4,049,571</span> │\n",
       "├─────────────────────────────────┼────────────────────────┼───────────────┤\n",
       "│ global_average_pooling2d        │ (<span style=\"color: #00d7ff; text-decoration-color: #00d7ff\">None</span>, <span style=\"color: #00af00; text-decoration-color: #00af00\">1280</span>)           │             <span style=\"color: #00af00; text-decoration-color: #00af00\">0</span> │\n",
       "│ (<span style=\"color: #0087ff; text-decoration-color: #0087ff\">GlobalAveragePooling2D</span>)        │                        │               │\n",
       "├─────────────────────────────────┼────────────────────────┼───────────────┤\n",
       "│ dropout (<span style=\"color: #0087ff; text-decoration-color: #0087ff\">Dropout</span>)               │ (<span style=\"color: #00d7ff; text-decoration-color: #00d7ff\">None</span>, <span style=\"color: #00af00; text-decoration-color: #00af00\">1280</span>)           │             <span style=\"color: #00af00; text-decoration-color: #00af00\">0</span> │\n",
       "├─────────────────────────────────┼────────────────────────┼───────────────┤\n",
       "│ dense (<span style=\"color: #0087ff; text-decoration-color: #0087ff\">Dense</span>)                   │ (<span style=\"color: #00d7ff; text-decoration-color: #00d7ff\">None</span>, <span style=\"color: #00af00; text-decoration-color: #00af00\">3</span>)              │         <span style=\"color: #00af00; text-decoration-color: #00af00\">3,843</span> │\n",
       "└─────────────────────────────────┴────────────────────────┴───────────────┘\n",
       "</pre>\n"
      ],
      "text/plain": [
       "┏━━━━━━━━━━━━━━━━━━━━━━━━━━━━━━━━━┳━━━━━━━━━━━━━━━━━━━━━━━━┳━━━━━━━━━━━━━━━┓\n",
       "┃\u001b[1m \u001b[0m\u001b[1mLayer (type)                   \u001b[0m\u001b[1m \u001b[0m┃\u001b[1m \u001b[0m\u001b[1mOutput Shape          \u001b[0m\u001b[1m \u001b[0m┃\u001b[1m \u001b[0m\u001b[1m      Param #\u001b[0m\u001b[1m \u001b[0m┃\n",
       "┡━━━━━━━━━━━━━━━━━━━━━━━━━━━━━━━━━╇━━━━━━━━━━━━━━━━━━━━━━━━╇━━━━━━━━━━━━━━━┩\n",
       "│ efficientnetb0 (\u001b[38;5;33mFunctional\u001b[0m)     │ (\u001b[38;5;45mNone\u001b[0m, \u001b[38;5;34m4\u001b[0m, \u001b[38;5;34m4\u001b[0m, \u001b[38;5;34m1280\u001b[0m)     │     \u001b[38;5;34m4,049,571\u001b[0m │\n",
       "├─────────────────────────────────┼────────────────────────┼───────────────┤\n",
       "│ global_average_pooling2d        │ (\u001b[38;5;45mNone\u001b[0m, \u001b[38;5;34m1280\u001b[0m)           │             \u001b[38;5;34m0\u001b[0m │\n",
       "│ (\u001b[38;5;33mGlobalAveragePooling2D\u001b[0m)        │                        │               │\n",
       "├─────────────────────────────────┼────────────────────────┼───────────────┤\n",
       "│ dropout (\u001b[38;5;33mDropout\u001b[0m)               │ (\u001b[38;5;45mNone\u001b[0m, \u001b[38;5;34m1280\u001b[0m)           │             \u001b[38;5;34m0\u001b[0m │\n",
       "├─────────────────────────────────┼────────────────────────┼───────────────┤\n",
       "│ dense (\u001b[38;5;33mDense\u001b[0m)                   │ (\u001b[38;5;45mNone\u001b[0m, \u001b[38;5;34m3\u001b[0m)              │         \u001b[38;5;34m3,843\u001b[0m │\n",
       "└─────────────────────────────────┴────────────────────────┴───────────────┘\n"
      ]
     },
     "metadata": {},
     "output_type": "display_data"
    },
    {
     "data": {
      "text/html": [
       "<pre style=\"white-space:pre;overflow-x:auto;line-height:normal;font-family:Menlo,'DejaVu Sans Mono',consolas,'Courier New',monospace\"><span style=\"font-weight: bold\"> Total params: </span><span style=\"color: #00af00; text-decoration-color: #00af00\">4,053,414</span> (15.46 MB)\n",
       "</pre>\n"
      ],
      "text/plain": [
       "\u001b[1m Total params: \u001b[0m\u001b[38;5;34m4,053,414\u001b[0m (15.46 MB)\n"
      ]
     },
     "metadata": {},
     "output_type": "display_data"
    },
    {
     "data": {
      "text/html": [
       "<pre style=\"white-space:pre;overflow-x:auto;line-height:normal;font-family:Menlo,'DejaVu Sans Mono',consolas,'Courier New',monospace\"><span style=\"font-weight: bold\"> Trainable params: </span><span style=\"color: #00af00; text-decoration-color: #00af00\">3,843</span> (15.01 KB)\n",
       "</pre>\n"
      ],
      "text/plain": [
       "\u001b[1m Trainable params: \u001b[0m\u001b[38;5;34m3,843\u001b[0m (15.01 KB)\n"
      ]
     },
     "metadata": {},
     "output_type": "display_data"
    },
    {
     "data": {
      "text/html": [
       "<pre style=\"white-space:pre;overflow-x:auto;line-height:normal;font-family:Menlo,'DejaVu Sans Mono',consolas,'Courier New',monospace\"><span style=\"font-weight: bold\"> Non-trainable params: </span><span style=\"color: #00af00; text-decoration-color: #00af00\">4,049,571</span> (15.45 MB)\n",
       "</pre>\n"
      ],
      "text/plain": [
       "\u001b[1m Non-trainable params: \u001b[0m\u001b[38;5;34m4,049,571\u001b[0m (15.45 MB)\n"
      ]
     },
     "metadata": {},
     "output_type": "display_data"
    },
    {
     "name": "stdout",
     "output_type": "stream",
     "text": [
      "X_train shape: (2904, 128, 128, 3), y_train shape: (2904, 3)\n",
      "X_test shape: (308, 128, 128, 3), y_test shape: (308, 3)\n",
      "Epoch 1/40\n",
      "\u001b[1m91/91\u001b[0m \u001b[32m━━━━━━━━━━━━━━━━━━━━\u001b[0m\u001b[37m\u001b[0m \u001b[1m23s\u001b[0m 171ms/step - accuracy: 0.3933 - loss: 1.1017 - val_accuracy: 0.2857 - val_loss: 1.1191 - learning_rate: 0.0010\n",
      "Epoch 2/40\n",
      "\u001b[1m91/91\u001b[0m \u001b[32m━━━━━━━━━━━━━━━━━━━━\u001b[0m\u001b[37m\u001b[0m \u001b[1m13s\u001b[0m 148ms/step - accuracy: 0.4114 - loss: 1.0850 - val_accuracy: 0.2857 - val_loss: 1.1489 - learning_rate: 0.0010\n",
      "Epoch 3/40\n",
      "\u001b[1m91/91\u001b[0m \u001b[32m━━━━━━━━━━━━━━━━━━━━\u001b[0m\u001b[37m\u001b[0m \u001b[1m13s\u001b[0m 146ms/step - accuracy: 0.4127 - loss: 1.0979 - val_accuracy: 0.2857 - val_loss: 1.1381 - learning_rate: 0.0010\n",
      "Epoch 4/40\n",
      "\u001b[1m91/91\u001b[0m \u001b[32m━━━━━━━━━━━━━━━━━━━━\u001b[0m\u001b[37m\u001b[0m \u001b[1m0s\u001b[0m 136ms/step - accuracy: 0.4173 - loss: 1.0926\n",
      "Epoch 4: ReduceLROnPlateau reducing learning rate to 0.00010000000474974513.\n",
      "\u001b[1m91/91\u001b[0m \u001b[32m━━━━━━━━━━━━━━━━━━━━\u001b[0m\u001b[37m\u001b[0m \u001b[1m14s\u001b[0m 151ms/step - accuracy: 0.4174 - loss: 1.0925 - val_accuracy: 0.2857 - val_loss: 1.1452 - learning_rate: 0.0010\n",
      "Epoch 5/40\n",
      "\u001b[1m91/91\u001b[0m \u001b[32m━━━━━━━━━━━━━━━━━━━━\u001b[0m\u001b[37m\u001b[0m \u001b[1m14s\u001b[0m 150ms/step - accuracy: 0.4321 - loss: 1.0787 - val_accuracy: 0.2857 - val_loss: 1.1396 - learning_rate: 1.0000e-04\n",
      "Epoch 6/40\n",
      "\u001b[1m91/91\u001b[0m \u001b[32m━━━━━━━━━━━━━━━━━━━━\u001b[0m\u001b[37m\u001b[0m \u001b[1m13s\u001b[0m 141ms/step - accuracy: 0.4301 - loss: 1.0827 - val_accuracy: 0.2857 - val_loss: 1.1441 - learning_rate: 1.0000e-04\n",
      "Epoch 6: early stopping\n",
      "Restoring model weights from the end of the best epoch: 1.\n"
     ]
    }
   ],
   "source": [
    "# Define callbacks\n",
    "import tensorflow as tf\n",
    "from tensorflow.keras.callbacks import ReduceLROnPlateau, EarlyStopping\n",
    "from tensorflow.keras import backend as K\n",
    "\n",
    "# Clear previous session to avoid residual state\n",
    "K.clear_session()\n",
    "\n",
    "# Compile the model\n",
    "transfer_model_ENB0.compile(optimizer='adam', loss='categorical_crossentropy', metrics=['accuracy'])\n",
    "\n",
    "# Print model summary\n",
    "transfer_model_ENB0.summary()\n",
    "\n",
    "y_train = to_categorical(y_train, num_classes=3)\n",
    "y_test = to_categorical(y_test, num_classes=3)\n",
    "\n",
    "# Check data shapes\n",
    "print(f\"X_train shape: {X_train.shape}, y_train shape: {y_train.shape}\")\n",
    "print(f\"X_test shape: {X_test.shape}, y_test shape: {y_test.shape}\")\n",
    "\n",
    "\n",
    "callbacks = [\n",
    "    # Reduce learning rate when a metric has stopped improving\n",
    "    ReduceLROnPlateau(\n",
    "        monitor='val_loss',  # Monitor validation loss\n",
    "        factor=0.1,          # Reduce learning rate by a factor of 0.1\n",
    "        patience=3,          # Wait for 3 epochs with no improvement\n",
    "        min_lr=1e-6,         # Minimum learning rate allowed\n",
    "        verbose=1            # Print information when learning rate is reduced\n",
    "    ),\n",
    "    \n",
    "    # Stop training early when no improvement is seen\n",
    "    EarlyStopping(\n",
    "        monitor='val_loss',  # Monitor validation loss\n",
    "        patience=5,          # Stop training after 5 epochs with no improvement\n",
    "        verbose=1,           # Print information when training is stopped early\n",
    "        restore_best_weights=True  # Restore the model weights from the best epoch\n",
    "    )\n",
    "]\n",
    "\n",
    "# Train the model\n",
    "history_enb0 = transfer_model_ENB0.fit(\n",
    "    X_train, y_train,\n",
    "    validation_data=(X_test, y_test),\n",
    "    epochs=40,  # Train for 4 epochs\n",
    "    batch_size=32,  # You can adjust this based on your resources\n",
    "    callbacks=callbacks  # Use the defined callbacks\n",
    ")"
   ]
  },
  {
   "cell_type": "markdown",
   "metadata": {
    "deletable": false,
    "editable": false,
    "id": "QH73ppfRiakq",
    "nbgrader": {
     "grade": false,
     "locked": true,
     "solution": false
    }
   },
   "source": [
    "8. Plot training and validation accuracy and loss against epochs."
   ]
  },
  {
   "cell_type": "code",
   "execution_count": 16,
   "metadata": {
    "colab": {
     "base_uri": "https://localhost:8080/",
     "height": 927
    },
    "execution": {
     "iopub.execute_input": "2021-07-31T22:38:13.831219Z",
     "iopub.status.busy": "2021-07-31T22:38:13.830884Z",
     "iopub.status.idle": "2021-07-31T22:38:14.102155Z",
     "shell.execute_reply": "2021-07-31T22:38:14.101318Z",
     "shell.execute_reply.started": "2021-07-31T22:38:13.831184Z"
    },
    "id": "2hjKvOu-uuIv",
    "outputId": "90236f72-937b-44f1-d5ba-fb0ecfbd2ef7"
   },
   "outputs": [
    {
     "data": {
      "image/png": "[encoded data removed]",
      "text/plain": [
       "<Figure size 1200x500 with 2 Axes>"
      ]
     },
     "metadata": {},
     "output_type": "display_data"
    }
   ],
   "source": [
    "import matplotlib.pyplot as plt\n",
    "\n",
    "# Assuming 'history' is the result from model.fit\n",
    "# Plot training & validation accuracy values\n",
    "plt.figure(figsize=(12, 5))\n",
    "\n",
    "# Accuracy\n",
    "plt.subplot(1, 2, 1)\n",
    "plt.plot(history_enb0.history['accuracy'], label='Train Accuracy')\n",
    "plt.plot(history_enb0.history['val_accuracy'], label='Validation Accuracy')\n",
    "plt.title('Model Accuracy')\n",
    "plt.xlabel('Epochs')\n",
    "plt.ylabel('Accuracy')\n",
    "plt.legend(loc='lower right')\n",
    "\n",
    "# Loss\n",
    "plt.subplot(1, 2, 2)\n",
    "plt.plot(history_enb0.history['loss'], label='Train Loss')\n",
    "plt.plot(history_enb0.history['val_loss'], label='Validation Loss')\n",
    "plt.title('Model Loss')\n",
    "plt.xlabel('Epochs')\n",
    "plt.ylabel('Loss')\n",
    "plt.legend(loc='upper right')\n",
    "\n",
    "plt.tight_layout()\n",
    "plt.show()"
   ]
  },
  {
   "cell_type": "markdown",
   "metadata": {
    "deletable": false,
    "editable": false,
    "id": "TSZaj2j5ifUf",
    "nbgrader": {
     "grade": false,
     "locked": true,
     "solution": false
    }
   },
   "source": [
    "## **Task B**"
   ]
  },
  {
   "cell_type": "markdown",
   "metadata": {
    "deletable": false,
    "editable": false,
    "id": "N1SaUdJhisjt",
    "nbgrader": {
     "grade": false,
     "locked": true,
     "solution": false
    }
   },
   "source": [
    "1. Load the Image Training and Test Datasets from the train and test folder respectively. Each image is of shape 128 x 128 x 3.\n",
    "2. Load training dataset using Keras ImageDataGenerator with validation_split=0.2. \n",
    "3. Load test dataset using Keras ImageDataGenerator.\n",
    "4. Build a Transfer Learning network using Keras with the following layers:\n",
    "\n",
    "- ResNet50 as first layers using Keras API.\n",
    "- GLobalAveragePooling2D layer\n",
    "- Dropout(0.5)\n",
    "- Dense layer with 3 neurons and activation softmax"
   ]
  },
  {
   "cell_type": "code",
   "execution_count": 17,
   "metadata": {
    "colab": {
     "base_uri": "https://localhost:8080/"
    },
    "execution": {
     "iopub.execute_input": "2021-07-31T22:38:14.103906Z",
     "iopub.status.busy": "2021-07-31T22:38:14.103521Z",
     "iopub.status.idle": "2021-07-31T22:38:16.006834Z",
     "shell.execute_reply": "2021-07-31T22:38:16.005971Z",
     "shell.execute_reply.started": "2021-07-31T22:38:14.103868Z"
    },
    "id": "y8UNtNycuuIw",
    "outputId": "d5eeb237-be89-4b82-d34f-6a69babe4081"
   },
   "outputs": [],
   "source": [
    "base_model = ResNet50(weights='imagenet', include_top=False, input_shape=(128, 128, 3))\n",
    "# Freeze the base model\n",
    "base_model.trainable = False\n",
    "\n",
    "\n",
    "transfer_model_ResNet50 = keras.Sequential([base_model, \n",
    "                                        keras.layers.GlobalAveragePooling2D(),\n",
    "                                        keras.layers.Dropout(0.5),\n",
    "                                        keras.layers.Dense(3, activation='softmax')\n",
    "])"
   ]
  },
  {
   "cell_type": "markdown",
   "metadata": {
    "deletable": false,
    "editable": false,
    "id": "hsj6_R4bjD6k",
    "nbgrader": {
     "grade": false,
     "locked": true,
     "solution": false
    }
   },
   "source": [
    "5. Compile the model with adam optimizer, categorical_crossentropy loss, and with metrics accuracy."
   ]
  },
  {
   "cell_type": "code",
   "execution_count": 18,
   "metadata": {
    "id": "WMTVMEtJjNzY"
   },
   "outputs": [
    {
     "data": {
      "text/html": [
       "<pre style=\"white-space:pre;overflow-x:auto;line-height:normal;font-family:Menlo,'DejaVu Sans Mono',consolas,'Courier New',monospace\"><span style=\"font-weight: bold\">Model: \"sequential\"</span>\n",
       "</pre>\n"
      ],
      "text/plain": [
       "\u001b[1mModel: \"sequential\"\u001b[0m\n"
      ]
     },
     "metadata": {},
     "output_type": "display_data"
    },
    {
     "data": {
      "text/html": [
       "<pre style=\"white-space:pre;overflow-x:auto;line-height:normal;font-family:Menlo,'DejaVu Sans Mono',consolas,'Courier New',monospace\">┏━━━━━━━━━━━━━━━━━━━━━━━━━━━━━━━━━┳━━━━━━━━━━━━━━━━━━━━━━━━┳━━━━━━━━━━━━━━━┓\n",
       "┃<span style=\"font-weight: bold\"> Layer (type)                    </span>┃<span style=\"font-weight: bold\"> Output Shape           </span>┃<span style=\"font-weight: bold\">       Param # </span>┃\n",
       "┡━━━━━━━━━━━━━━━━━━━━━━━━━━━━━━━━━╇━━━━━━━━━━━━━━━━━━━━━━━━╇━━━━━━━━━━━━━━━┩\n",
       "│ resnet50 (<span style=\"color: #0087ff; text-decoration-color: #0087ff\">Functional</span>)           │ (<span style=\"color: #00d7ff; text-decoration-color: #00d7ff\">None</span>, <span style=\"color: #00af00; text-decoration-color: #00af00\">4</span>, <span style=\"color: #00af00; text-decoration-color: #00af00\">4</span>, <span style=\"color: #00af00; text-decoration-color: #00af00\">2048</span>)     │    <span style=\"color: #00af00; text-decoration-color: #00af00\">23,587,712</span> │\n",
       "├─────────────────────────────────┼────────────────────────┼───────────────┤\n",
       "│ global_average_pooling2d        │ (<span style=\"color: #00d7ff; text-decoration-color: #00d7ff\">None</span>, <span style=\"color: #00af00; text-decoration-color: #00af00\">2048</span>)           │             <span style=\"color: #00af00; text-decoration-color: #00af00\">0</span> │\n",
       "│ (<span style=\"color: #0087ff; text-decoration-color: #0087ff\">GlobalAveragePooling2D</span>)        │                        │               │\n",
       "├─────────────────────────────────┼────────────────────────┼───────────────┤\n",
       "│ dropout (<span style=\"color: #0087ff; text-decoration-color: #0087ff\">Dropout</span>)               │ (<span style=\"color: #00d7ff; text-decoration-color: #00d7ff\">None</span>, <span style=\"color: #00af00; text-decoration-color: #00af00\">2048</span>)           │             <span style=\"color: #00af00; text-decoration-color: #00af00\">0</span> │\n",
       "├─────────────────────────────────┼────────────────────────┼───────────────┤\n",
       "│ dense (<span style=\"color: #0087ff; text-decoration-color: #0087ff\">Dense</span>)                   │ (<span style=\"color: #00d7ff; text-decoration-color: #00d7ff\">None</span>, <span style=\"color: #00af00; text-decoration-color: #00af00\">3</span>)              │         <span style=\"color: #00af00; text-decoration-color: #00af00\">6,147</span> │\n",
       "└─────────────────────────────────┴────────────────────────┴───────────────┘\n",
       "</pre>\n"
      ],
      "text/plain": [
       "┏━━━━━━━━━━━━━━━━━━━━━━━━━━━━━━━━━┳━━━━━━━━━━━━━━━━━━━━━━━━┳━━━━━━━━━━━━━━━┓\n",
       "┃\u001b[1m \u001b[0m\u001b[1mLayer (type)                   \u001b[0m\u001b[1m \u001b[0m┃\u001b[1m \u001b[0m\u001b[1mOutput Shape          \u001b[0m\u001b[1m \u001b[0m┃\u001b[1m \u001b[0m\u001b[1m      Param #\u001b[0m\u001b[1m \u001b[0m┃\n",
       "┡━━━━━━━━━━━━━━━━━━━━━━━━━━━━━━━━━╇━━━━━━━━━━━━━━━━━━━━━━━━╇━━━━━━━━━━━━━━━┩\n",
       "│ resnet50 (\u001b[38;5;33mFunctional\u001b[0m)           │ (\u001b[38;5;45mNone\u001b[0m, \u001b[38;5;34m4\u001b[0m, \u001b[38;5;34m4\u001b[0m, \u001b[38;5;34m2048\u001b[0m)     │    \u001b[38;5;34m23,587,712\u001b[0m │\n",
       "├─────────────────────────────────┼────────────────────────┼───────────────┤\n",
       "│ global_average_pooling2d        │ (\u001b[38;5;45mNone\u001b[0m, \u001b[38;5;34m2048\u001b[0m)           │             \u001b[38;5;34m0\u001b[0m │\n",
       "│ (\u001b[38;5;33mGlobalAveragePooling2D\u001b[0m)        │                        │               │\n",
       "├─────────────────────────────────┼────────────────────────┼───────────────┤\n",
       "│ dropout (\u001b[38;5;33mDropout\u001b[0m)               │ (\u001b[38;5;45mNone\u001b[0m, \u001b[38;5;34m2048\u001b[0m)           │             \u001b[38;5;34m0\u001b[0m │\n",
       "├─────────────────────────────────┼────────────────────────┼───────────────┤\n",
       "│ dense (\u001b[38;5;33mDense\u001b[0m)                   │ (\u001b[38;5;45mNone\u001b[0m, \u001b[38;5;34m3\u001b[0m)              │         \u001b[38;5;34m6,147\u001b[0m │\n",
       "└─────────────────────────────────┴────────────────────────┴───────────────┘\n"
      ]
     },
     "metadata": {},
     "output_type": "display_data"
    },
    {
     "data": {
      "text/html": [
       "<pre style=\"white-space:pre;overflow-x:auto;line-height:normal;font-family:Menlo,'DejaVu Sans Mono',consolas,'Courier New',monospace\"><span style=\"font-weight: bold\"> Total params: </span><span style=\"color: #00af00; text-decoration-color: #00af00\">23,593,859</span> (90.00 MB)\n",
       "</pre>\n"
      ],
      "text/plain": [
       "\u001b[1m Total params: \u001b[0m\u001b[38;5;34m23,593,859\u001b[0m (90.00 MB)\n"
      ]
     },
     "metadata": {},
     "output_type": "display_data"
    },
    {
     "data": {
      "text/html": [
       "<pre style=\"white-space:pre;overflow-x:auto;line-height:normal;font-family:Menlo,'DejaVu Sans Mono',consolas,'Courier New',monospace\"><span style=\"font-weight: bold\"> Trainable params: </span><span style=\"color: #00af00; text-decoration-color: #00af00\">6,147</span> (24.01 KB)\n",
       "</pre>\n"
      ],
      "text/plain": [
       "\u001b[1m Trainable params: \u001b[0m\u001b[38;5;34m6,147\u001b[0m (24.01 KB)\n"
      ]
     },
     "metadata": {},
     "output_type": "display_data"
    },
    {
     "data": {
      "text/html": [
       "<pre style=\"white-space:pre;overflow-x:auto;line-height:normal;font-family:Menlo,'DejaVu Sans Mono',consolas,'Courier New',monospace\"><span style=\"font-weight: bold\"> Non-trainable params: </span><span style=\"color: #00af00; text-decoration-color: #00af00\">23,587,712</span> (89.98 MB)\n",
       "</pre>\n"
      ],
      "text/plain": [
       "\u001b[1m Non-trainable params: \u001b[0m\u001b[38;5;34m23,587,712\u001b[0m (89.98 MB)\n"
      ]
     },
     "metadata": {},
     "output_type": "display_data"
    }
   ],
   "source": [
    "transfer_model_ResNet50.compile(optimizer='adam', loss='categorical_crossentropy', metrics=['accuracy'])\n",
    "\n",
    "# Print model summary\n",
    "transfer_model_ResNet50.summary()"
   ]
  },
  {
   "cell_type": "markdown",
   "metadata": {
    "deletable": false,
    "editable": false,
    "id": "v9jD2UJcjJ_5",
    "nbgrader": {
     "grade": false,
     "locked": true,
     "solution": false
    }
   },
   "source": [
    "6. Train the model for 4 epochs with callbacks. Reduce learning rate on Plateau and early stopping while monitoring validation loss."
   ]
  },
  {
   "cell_type": "code",
   "execution_count": 19,
   "metadata": {
    "colab": {
     "base_uri": "https://localhost:8080/"
    },
    "execution": {
     "iopub.execute_input": "2021-07-31T22:38:16.008735Z",
     "iopub.status.busy": "2021-07-31T22:38:16.008361Z",
     "iopub.status.idle": "2021-07-31T22:43:14.291395Z",
     "shell.execute_reply": "2021-07-31T22:43:14.290364Z",
     "shell.execute_reply.started": "2021-07-31T22:38:16.008701Z"
    },
    "id": "y9L-rKx5uuIx",
    "outputId": "5e17f378-0cc2-427a-caff-9ac019ef43d8"
   },
   "outputs": [
    {
     "name": "stdout",
     "output_type": "stream",
     "text": [
      "X_train shape: (2904, 128, 128, 3), y_train shape: (2904, 3)\n",
      "X_test shape: (308, 128, 128, 3), y_test shape: (308, 3)\n",
      "Epoch 1/40\n",
      "\u001b[1m91/91\u001b[0m \u001b[32m━━━━━━━━━━━━━━━━━━━━\u001b[0m\u001b[37m\u001b[0m \u001b[1m34s\u001b[0m 320ms/step - accuracy: 0.3862 - loss: 1.1119 - val_accuracy: 0.2857 - val_loss: 1.1115 - learning_rate: 0.0010\n",
      "Epoch 2/40\n",
      "\u001b[1m91/91\u001b[0m \u001b[32m━━━━━━━━━━━━━━━━━━━━\u001b[0m\u001b[37m\u001b[0m \u001b[1m29s\u001b[0m 316ms/step - accuracy: 0.4491 - loss: 1.0514 - val_accuracy: 0.2857 - val_loss: 1.0985 - learning_rate: 0.0010\n",
      "Epoch 3/40\n",
      "\u001b[1m91/91\u001b[0m \u001b[32m━━━━━━━━━━━━━━━━━━━━\u001b[0m\u001b[37m\u001b[0m \u001b[1m27s\u001b[0m 300ms/step - accuracy: 0.4552 - loss: 1.0350 - val_accuracy: 0.2890 - val_loss: 1.0877 - learning_rate: 0.0010\n",
      "Epoch 4/40\n",
      "\u001b[1m91/91\u001b[0m \u001b[32m━━━━━━━━━━━━━━━━━━━━\u001b[0m\u001b[37m\u001b[0m \u001b[1m29s\u001b[0m 321ms/step - accuracy: 0.4516 - loss: 1.0252 - val_accuracy: 0.2890 - val_loss: 1.0738 - learning_rate: 0.0010\n",
      "Epoch 5/40\n",
      "\u001b[1m91/91\u001b[0m \u001b[32m━━━━━━━━━━━━━━━━━━━━\u001b[0m\u001b[37m\u001b[0m \u001b[1m29s\u001b[0m 314ms/step - accuracy: 0.4723 - loss: 1.0086 - val_accuracy: 0.3929 - val_loss: 1.0306 - learning_rate: 0.0010\n",
      "Epoch 6/40\n",
      "\u001b[1m91/91\u001b[0m \u001b[32m━━━━━━━━━━━━━━━━━━━━\u001b[0m\u001b[37m\u001b[0m \u001b[1m28s\u001b[0m 311ms/step - accuracy: 0.4993 - loss: 0.9906 - val_accuracy: 0.3247 - val_loss: 1.0273 - learning_rate: 0.0010\n",
      "Epoch 7/40\n",
      "\u001b[1m91/91\u001b[0m \u001b[32m━━━━━━━━━━━━━━━━━━━━\u001b[0m\u001b[37m\u001b[0m \u001b[1m27s\u001b[0m 294ms/step - accuracy: 0.5216 - loss: 0.9802 - val_accuracy: 0.3766 - val_loss: 1.0239 - learning_rate: 0.0010\n",
      "Epoch 8/40\n",
      "\u001b[1m91/91\u001b[0m \u001b[32m━━━━━━━━━━━━━━━━━━━━\u001b[0m\u001b[37m\u001b[0m \u001b[1m27s\u001b[0m 299ms/step - accuracy: 0.5437 - loss: 0.9636 - val_accuracy: 0.3961 - val_loss: 1.0104 - learning_rate: 0.0010\n",
      "Epoch 9/40\n",
      "\u001b[1m91/91\u001b[0m \u001b[32m━━━━━━━━━━━━━━━━━━━━\u001b[0m\u001b[37m\u001b[0m \u001b[1m27s\u001b[0m 293ms/step - accuracy: 0.5276 - loss: 0.9633 - val_accuracy: 0.3929 - val_loss: 1.0081 - learning_rate: 0.0010\n",
      "Epoch 10/40\n",
      "\u001b[1m91/91\u001b[0m \u001b[32m━━━━━━━━━━━━━━━━━━━━\u001b[0m\u001b[37m\u001b[0m \u001b[1m27s\u001b[0m 291ms/step - accuracy: 0.5417 - loss: 0.9444 - val_accuracy: 0.4610 - val_loss: 0.9992 - learning_rate: 0.0010\n",
      "Epoch 11/40\n",
      "\u001b[1m91/91\u001b[0m \u001b[32m━━━━━━━━━━━━━━━━━━━━\u001b[0m\u001b[37m\u001b[0m \u001b[1m29s\u001b[0m 323ms/step - accuracy: 0.5697 - loss: 0.9353 - val_accuracy: 0.5097 - val_loss: 0.9737 - learning_rate: 0.0010\n",
      "Epoch 12/40\n",
      "\u001b[1m91/91\u001b[0m \u001b[32m━━━━━━━━━━━━━━━━━━━━\u001b[0m\u001b[37m\u001b[0m \u001b[1m27s\u001b[0m 296ms/step - accuracy: 0.5515 - loss: 0.9329 - val_accuracy: 0.5227 - val_loss: 0.9679 - learning_rate: 0.0010\n",
      "Epoch 13/40\n",
      "\u001b[1m91/91\u001b[0m \u001b[32m━━━━━━━━━━━━━━━━━━━━\u001b[0m\u001b[37m\u001b[0m \u001b[1m27s\u001b[0m 293ms/step - accuracy: 0.5698 - loss: 0.9288 - val_accuracy: 0.5714 - val_loss: 0.9550 - learning_rate: 0.0010\n",
      "Epoch 14/40\n",
      "\u001b[1m91/91\u001b[0m \u001b[32m━━━━━━━━━━━━━━━━━━━━\u001b[0m\u001b[37m\u001b[0m \u001b[1m27s\u001b[0m 292ms/step - accuracy: 0.5850 - loss: 0.9217 - val_accuracy: 0.4805 - val_loss: 0.9660 - learning_rate: 0.0010\n",
      "Epoch 15/40\n",
      "\u001b[1m91/91\u001b[0m \u001b[32m━━━━━━━━━━━━━━━━━━━━\u001b[0m\u001b[37m\u001b[0m \u001b[1m27s\u001b[0m 294ms/step - accuracy: 0.5558 - loss: 0.9208 - val_accuracy: 0.5779 - val_loss: 0.9434 - learning_rate: 0.0010\n",
      "Epoch 16/40\n",
      "\u001b[1m91/91\u001b[0m \u001b[32m━━━━━━━━━━━━━━━━━━━━\u001b[0m\u001b[37m\u001b[0m \u001b[1m27s\u001b[0m 298ms/step - accuracy: 0.5904 - loss: 0.9191 - val_accuracy: 0.5747 - val_loss: 0.9353 - learning_rate: 0.0010\n",
      "Epoch 17/40\n",
      "\u001b[1m91/91\u001b[0m \u001b[32m━━━━━━━━━━━━━━━━━━━━\u001b[0m\u001b[37m\u001b[0m \u001b[1m27s\u001b[0m 296ms/step - accuracy: 0.6060 - loss: 0.9023 - val_accuracy: 0.4805 - val_loss: 0.9549 - learning_rate: 0.0010\n",
      "Epoch 18/40\n",
      "\u001b[1m91/91\u001b[0m \u001b[32m━━━━━━━━━━━━━━━━━━━━\u001b[0m\u001b[37m\u001b[0m \u001b[1m27s\u001b[0m 292ms/step - accuracy: 0.5752 - loss: 0.8968 - val_accuracy: 0.5779 - val_loss: 0.9310 - learning_rate: 0.0010\n",
      "Epoch 19/40\n",
      "\u001b[1m91/91\u001b[0m \u001b[32m━━━━━━━━━━━━━━━━━━━━\u001b[0m\u001b[37m\u001b[0m \u001b[1m27s\u001b[0m 293ms/step - accuracy: 0.5765 - loss: 0.9038 - val_accuracy: 0.5227 - val_loss: 0.9489 - learning_rate: 0.0010\n",
      "Epoch 20/40\n",
      "\u001b[1m91/91\u001b[0m \u001b[32m━━━━━━━━━━━━━━━━━━━━\u001b[0m\u001b[37m\u001b[0m \u001b[1m26s\u001b[0m 290ms/step - accuracy: 0.6090 - loss: 0.8835 - val_accuracy: 0.5422 - val_loss: 0.9375 - learning_rate: 0.0010\n",
      "Epoch 21/40\n",
      "\u001b[1m91/91\u001b[0m \u001b[32m━━━━━━━━━━━━━━━━━━━━\u001b[0m\u001b[37m\u001b[0m \u001b[1m27s\u001b[0m 293ms/step - accuracy: 0.5857 - loss: 0.8964 - val_accuracy: 0.6169 - val_loss: 0.8966 - learning_rate: 0.0010\n",
      "Epoch 22/40\n",
      "\u001b[1m91/91\u001b[0m \u001b[32m━━━━━━━━━━━━━━━━━━━━\u001b[0m\u001b[37m\u001b[0m \u001b[1m27s\u001b[0m 295ms/step - accuracy: 0.6158 - loss: 0.8820 - val_accuracy: 0.6299 - val_loss: 0.8899 - learning_rate: 0.0010\n",
      "Epoch 23/40\n",
      "\u001b[1m91/91\u001b[0m \u001b[32m━━━━━━━━━━━━━━━━━━━━\u001b[0m\u001b[37m\u001b[0m \u001b[1m27s\u001b[0m 292ms/step - accuracy: 0.6050 - loss: 0.8826 - val_accuracy: 0.5844 - val_loss: 0.9137 - learning_rate: 0.0010\n",
      "Epoch 24/40\n",
      "\u001b[1m91/91\u001b[0m \u001b[32m━━━━━━━━━━━━━━━━━━━━\u001b[0m\u001b[37m\u001b[0m \u001b[1m27s\u001b[0m 292ms/step - accuracy: 0.6117 - loss: 0.8701 - val_accuracy: 0.5552 - val_loss: 0.9139 - learning_rate: 0.0010\n",
      "Epoch 25/40\n",
      "\u001b[1m91/91\u001b[0m \u001b[32m━━━━━━━━━━━━━━━━━━━━\u001b[0m\u001b[37m\u001b[0m \u001b[1m0s\u001b[0m 263ms/step - accuracy: 0.6078 - loss: 0.8712\n",
      "Epoch 25: ReduceLROnPlateau reducing learning rate to 0.00010000000474974513.\n",
      "\u001b[1m91/91\u001b[0m \u001b[32m━━━━━━━━━━━━━━━━━━━━\u001b[0m\u001b[37m\u001b[0m \u001b[1m27s\u001b[0m 292ms/step - accuracy: 0.6078 - loss: 0.8712 - val_accuracy: 0.5942 - val_loss: 0.8946 - learning_rate: 0.0010\n",
      "Epoch 26/40\n",
      "\u001b[1m91/91\u001b[0m \u001b[32m━━━━━━━━━━━━━━━━━━━━\u001b[0m\u001b[37m\u001b[0m \u001b[1m27s\u001b[0m 294ms/step - accuracy: 0.5992 - loss: 0.8785 - val_accuracy: 0.5974 - val_loss: 0.8882 - learning_rate: 1.0000e-04\n",
      "Epoch 27/40\n",
      "\u001b[1m91/91\u001b[0m \u001b[32m━━━━━━━━━━━━━━━━━━━━\u001b[0m\u001b[37m\u001b[0m \u001b[1m27s\u001b[0m 296ms/step - accuracy: 0.6188 - loss: 0.8684 - val_accuracy: 0.5942 - val_loss: 0.8914 - learning_rate: 1.0000e-04\n",
      "Epoch 28/40\n",
      "\u001b[1m91/91\u001b[0m \u001b[32m━━━━━━━━━━━━━━━━━━━━\u001b[0m\u001b[37m\u001b[0m \u001b[1m27s\u001b[0m 293ms/step - accuracy: 0.6110 - loss: 0.8640 - val_accuracy: 0.5909 - val_loss: 0.8935 - learning_rate: 1.0000e-04\n",
      "Epoch 29/40\n",
      "\u001b[1m91/91\u001b[0m \u001b[32m━━━━━━━━━━━━━━━━━━━━\u001b[0m\u001b[37m\u001b[0m \u001b[1m0s\u001b[0m 263ms/step - accuracy: 0.6195 - loss: 0.8625\n",
      "Epoch 29: ReduceLROnPlateau reducing learning rate to 1.0000000474974514e-05.\n",
      "\u001b[1m91/91\u001b[0m \u001b[32m━━━━━━━━━━━━━━━━━━━━\u001b[0m\u001b[37m\u001b[0m \u001b[1m27s\u001b[0m 292ms/step - accuracy: 0.6195 - loss: 0.8625 - val_accuracy: 0.5942 - val_loss: 0.8933 - learning_rate: 1.0000e-04\n",
      "Epoch 30/40\n",
      "\u001b[1m91/91\u001b[0m \u001b[32m━━━━━━━━━━━━━━━━━━━━\u001b[0m\u001b[37m\u001b[0m \u001b[1m27s\u001b[0m 293ms/step - accuracy: 0.6225 - loss: 0.8621 - val_accuracy: 0.5942 - val_loss: 0.8925 - learning_rate: 1.0000e-05\n",
      "Epoch 31/40\n",
      "\u001b[1m91/91\u001b[0m \u001b[32m━━━━━━━━━━━━━━━━━━━━\u001b[0m\u001b[37m\u001b[0m \u001b[1m27s\u001b[0m 291ms/step - accuracy: 0.6122 - loss: 0.8569 - val_accuracy: 0.5942 - val_loss: 0.8916 - learning_rate: 1.0000e-05\n",
      "Epoch 31: early stopping\n",
      "Restoring model weights from the end of the best epoch: 26.\n"
     ]
    }
   ],
   "source": [
    "\n",
    "# Check data shapes\n",
    "print(f\"X_train shape: {X_train.shape}, y_train shape: {y_train.shape}\")\n",
    "print(f\"X_test shape: {X_test.shape}, y_test shape: {y_test.shape}\")\n",
    "\n",
    "\n",
    "callbacks = [\n",
    "    # Reduce learning rate when a metric has stopped improving\n",
    "    ReduceLROnPlateau(\n",
    "        monitor='val_loss',  # Monitor validation loss\n",
    "        factor=0.1,          # Reduce learning rate by a factor of 0.1\n",
    "        patience=3,          # Wait for 3 epochs with no improvement\n",
    "        min_lr=1e-6,         # Minimum learning rate allowed\n",
    "        verbose=1            # Print information when learning rate is reduced\n",
    "    ),\n",
    "    \n",
    "    # Stop training early when no improvement is seen\n",
    "    EarlyStopping(\n",
    "        monitor='val_loss',  # Monitor validation loss\n",
    "        patience=5,          # Stop training after 5 epochs with no improvement\n",
    "        verbose=1,           # Print information when training is stopped early\n",
    "        restore_best_weights=True  # Restore the model weights from the best epoch\n",
    "    )\n",
    "]\n",
    "\n",
    "# Train the model\n",
    "history_res50 = transfer_model_ResNet50.fit(\n",
    "    X_train, y_train,\n",
    "    validation_data=(X_test, y_test),\n",
    "    epochs=40,  # Train for 4 epochs\n",
    "    batch_size=32,  # You can adjust this based on your resources\n",
    "    callbacks=callbacks  # Use the defined callbacks\n",
    ")"
   ]
  },
  {
   "cell_type": "markdown",
   "metadata": {
    "deletable": false,
    "editable": false,
    "id": "_5O5CLYcj4ZN",
    "nbgrader": {
     "grade": false,
     "locked": true,
     "solution": false
    }
   },
   "source": [
    "7. Plot training and validation accuracy and loss against epochs."
   ]
  },
  {
   "cell_type": "code",
   "execution_count": 20,
   "metadata": {
    "colab": {
     "base_uri": "https://localhost:8080/",
     "height": 927
    },
    "execution": {
     "iopub.execute_input": "2021-07-31T22:43:14.293055Z",
     "iopub.status.busy": "2021-07-31T22:43:14.292739Z",
     "iopub.status.idle": "2021-07-31T22:43:14.751057Z",
     "shell.execute_reply": "2021-07-31T22:43:14.750076Z",
     "shell.execute_reply.started": "2021-07-31T22:43:14.293025Z"
    },
    "id": "B5Ie6P09uuIx",
    "outputId": "06eb4e5c-ce0c-4136-c578-90ee0f55ce60"
   },
   "outputs": [
    {
     "data": {
      "image/png": "[encoded data removed]",
      "text/plain": [
       "<Figure size 1200x500 with 2 Axes>"
      ]
     },
     "metadata": {},
     "output_type": "display_data"
    }
   ],
   "source": [
    "# Assuming 'history' is the result from model.fit\n",
    "# Plot training & validation accuracy values\n",
    "plt.figure(figsize=(12, 5))\n",
    "\n",
    "# Accuracy\n",
    "plt.subplot(1, 2, 1)\n",
    "plt.plot(history_res50.history['accuracy'], label='Train Accuracy')\n",
    "plt.plot(history_res50.history['val_accuracy'], label='Validation Accuracy')\n",
    "plt.title('Model Accuracy')\n",
    "plt.xlabel('Epochs')\n",
    "plt.ylabel('Accuracy')\n",
    "plt.legend(loc='lower right')\n",
    "\n",
    "# Loss\n",
    "plt.subplot(1, 2, 2)\n",
    "plt.plot(history_res50.history['loss'], label='Train Loss')\n",
    "plt.plot(history_res50.history['val_loss'], label='Validation Loss')\n",
    "plt.title('Model Loss')\n",
    "plt.xlabel('Epochs')\n",
    "plt.ylabel('Loss')\n",
    "plt.legend(loc='upper right')\n",
    "\n",
    "plt.tight_layout()\n",
    "plt.show()"
   ]
  },
  {
   "cell_type": "markdown",
   "metadata": {
    "deletable": false,
    "editable": false,
    "id": "cESN15asj9YV",
    "nbgrader": {
     "grade": false,
     "locked": true,
     "solution": false
    }
   },
   "source": [
    "## **Task C**\n",
    "\n",
    "1. Compare EfficientNetB0 and ResNet50 model performance and find the best model."
   ]
  },
  {
   "cell_type": "markdown",
   "metadata": {
    "deletable": false,
    "editable": false,
    "id": "RSnZnQ0juuIy",
    "nbgrader": {
     "grade": false,
     "locked": true,
     "solution": false
    }
   },
   "source": [
    "2. Choose the best model to check recall, precision, and f1-score values."
   ]
  },
  {
   "cell_type": "code",
   "execution_count": 22,
   "metadata": {
    "colab": {
     "base_uri": "https://localhost:8080/"
    },
    "execution": {
     "iopub.execute_input": "2021-07-31T22:49:58.441427Z",
     "iopub.status.busy": "2021-07-31T22:49:58.441153Z",
     "iopub.status.idle": "2021-07-31T22:50:00.812811Z",
     "shell.execute_reply": "2021-07-31T22:50:00.811579Z",
     "shell.execute_reply.started": "2021-07-31T22:49:58.441398Z"
    },
    "id": "UsxbX31ZuuIz",
    "outputId": "134825a6-6ff0-4fab-86cc-3a80fd7e0ad0"
   },
   "outputs": [
    {
     "name": "stdout",
     "output_type": "stream",
     "text": [
      "\u001b[1m10/10\u001b[0m \u001b[32m━━━━━━━━━━━━━━━━━━━━\u001b[0m\u001b[37m\u001b[0m \u001b[1m3s\u001b[0m 272ms/step\n",
      "                     precision    recall  f1-score   support\n",
      "\n",
      "mask_worn_incorrect       0.82      0.81      0.81       110\n",
      "          with_mask       0.78      0.13      0.22       110\n",
      "       without_mask       0.45      0.92      0.60        88\n",
      "\n",
      "           accuracy                           0.60       308\n",
      "          macro avg       0.68      0.62      0.54       308\n",
      "       weighted avg       0.70      0.60      0.54       308\n",
      "\n",
      "Confusion Matrix:\n"
     ]
    },
    {
     "data": {
      "image/png": "[encoded data removed]",
      "text/plain": [
       "<Figure size 640x480 with 2 Axes>"
      ]
     },
     "metadata": {},
     "output_type": "display_data"
    }
   ],
   "source": [
    "from sklearn.metrics import classification_report, confusion_matrix\n",
    "import numpy as np\n",
    "import seaborn as sns\n",
    "\n",
    "\n",
    "# y_test is in one-hot encoded format; convert it to class labels\n",
    "y_true = np.argmax(y_test, axis=1)\n",
    "\n",
    "# Predict on the test set\n",
    "y_pred_prob = transfer_model_ResNet50.predict(X_test)  # Get probabilities\n",
    "y_pred = np.argmax(y_pred_prob, axis=1)  # Get class labels\n",
    "\n",
    "# Print classification report\n",
    "print(classification_report(y_true, y_pred, target_names=['mask_worn_incorrect', 'with_mask', 'without_mask']))\n",
    "\n",
    "# Optional: Print confusion matrix\n",
    "conf_matrix = confusion_matrix(y_true, y_pred)\n",
    "print(\"Confusion Matrix:\")\n",
    "sns.heatmap(conf_matrix, annot=True, fmt='d', cmap='Blues', \n",
    "            xticklabels=['mask_worn_incorrect', 'with_mask', 'without_mask'],\n",
    "            yticklabels=['mask_worn_incorrect', 'with_mask', 'without_mask'])\n",
    "plt.title('Confusion Matrix')\n",
    "plt.ylabel('True Label')\n",
    "plt.xlabel('Predicted Label')\n",
    "plt.show()"
   ]
  }
 ],
 "metadata": {
  "accelerator": "GPU",
  "colab": {
   "gpuType": "T4",
   "provenance": []
  },
  "kernelspec": {
   "display_name": "Python 3",
   "language": "python",
   "name": "python3"
  },
  "language_info": {
   "codemirror_mode": {
    "name": "ipython",
    "version": 3
   },
   "file_extension": ".py",
   "mimetype": "text/x-python",
   "name": "python",
   "nbconvert_exporter": "python",
   "pygments_lexer": "ipython3",
   "version": "3.10.6"
  }
 },
 "nbformat": 4,
 "nbformat_minor": 4
}
