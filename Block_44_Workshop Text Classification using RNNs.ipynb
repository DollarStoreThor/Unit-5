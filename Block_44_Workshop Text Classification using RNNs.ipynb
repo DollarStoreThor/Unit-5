{
 "cells": [
  {
   "cell_type": "markdown",
   "metadata": {
    "deletable": false,
    "editable": false,
    "id": "AMGXXgNF7k61",
    "nbgrader": {
     "grade": false,
     "locked": true,
     "solution": false
    }
   },
   "source": [
    "# Block 44: Workshop\n",
    "## __Text Classification using RNN__\n",
    "\n",
    "### Scenario \n",
    "\n",
    "Imagine you are working for a news aggregator platform that collects articles from various sources. To improve the user experience, the platform wants to automatically categorize these articles into relevant topics. This categorization will help users discover articles of interest more efficiently. \n",
    "\n",
    "### Objective \n",
    "\n",
    "Your task is to develop a text classification model using Recurrent Neural Networks (RNNs) to classify these articles into predefined topics or categories. The platform has provided you with a dataset containing text articles and their corresponding labels. Your model should be able to analyze the content of these articles and assign them to the most appropriate category. \n"
   ]
  },
  {
   "cell_type": "code",
   "execution_count": 1,
   "metadata": {
    "colab": {
     "base_uri": "https://localhost:8080/"
    },
    "id": "RME2Qywv_p7Z",
    "outputId": "0c10d43c-5e5c-4adf-c70d-146e2a933598"
   },
   "outputs": [],
   "source": [
    "#!pip install nltk\n",
    "#import nltk\n",
    "#nltk.download('stopwords')"
   ]
  },
  {
   "cell_type": "markdown",
   "metadata": {
    "deletable": false,
    "editable": false,
    "id": "nKxl5ljN-IKH",
    "nbgrader": {
     "grade": false,
     "locked": true,
     "solution": false
    }
   },
   "source": [
    "### Step 1: Importing the libraries\n",
    "- Import the required libraries"
   ]
  },
  {
   "cell_type": "code",
   "execution_count": 2,
   "metadata": {
    "id": "qLg1HxV27k64"
   },
   "outputs": [
    {
     "name": "stderr",
     "output_type": "stream",
     "text": [
      "2024-10-31 19:34:02.831865: I tensorflow/core/util/port.cc:110] oneDNN custom operations are on. You may see slightly different numerical results due to floating-point round-off errors from different computation orders. To turn them off, set the environment variable `TF_ENABLE_ONEDNN_OPTS=0`.\n",
      "2024-10-31 19:34:02.870456: I tensorflow/core/platform/cpu_feature_guard.cc:182] This TensorFlow binary is optimized to use available CPU instructions in performance-critical operations.\n",
      "To enable the following instructions: AVX2 AVX512F AVX512_VNNI FMA, in other operations, rebuild TensorFlow with the appropriate compiler flags.\n"
     ]
    },
    {
     "name": "stdout",
     "output_type": "stream",
     "text": [
      "VOC-NOTICE: GPU memory for this assignment is capped at 1024MiB\n"
     ]
    },
    {
     "name": "stderr",
     "output_type": "stream",
     "text": [
      "2024-10-31 19:34:05.061761: E tensorflow/compiler/xla/stream_executor/cuda/cuda_driver.cc:268] failed call to cuInit: CUDA_ERROR_NO_DEVICE: no CUDA-capable device is detected\n"
     ]
    }
   ],
   "source": [
    "import csv\n",
    "import tensorflow as tf\n",
    "import numpy as np\n",
    "from tensorflow.keras.preprocessing.text import Tokenizer\n",
    "from tensorflow.keras.preprocessing.sequence import pad_sequences\n",
    "from tensorflow.keras import layers\n",
    "from nltk.corpus import stopwords\n",
    "STOPWORDS = set(stopwords.words('english'))\n",
    "import matplotlib.pyplot as plt"
   ]
  },
  {
   "cell_type": "markdown",
   "metadata": {
    "deletable": false,
    "editable": false,
    "id": "8cvQu2uW_AF0",
    "nbgrader": {
     "grade": false,
     "locked": true,
     "solution": false
    }
   },
   "source": [
    "### Step 2: Defining the Hyperparameter\n",
    "- Set the value of __vocab_size__ to __5000__, representing the size of the vocabulary\n",
    "- Set the value of __embedding_dim__ to __64__, specifying the dimensionality of the word embeddings\n",
    "- Set the value of __max_length__ to __200__, indicating the maximum length of input sequences\n",
    "- Set the value of __padding_type__ to __post__, specifying that padding should be added at the end of sequences\n",
    "- Set the value of __trunc_type__ to __post__, indicating that truncation should be applied at the end of sequences\n",
    "- Set the value of __oov_tok__ to __OOV__, representing the token to be used for out-of-vocabulary words\n",
    "- Set the value of __training_portion__ to __0.8__, representing the proportion of data to be used for training"
   ]
  },
  {
   "cell_type": "code",
   "execution_count": null,
   "metadata": {
    "id": "BecOwkf37k66"
   },
   "outputs": [],
   "source": [
    "vocab_size = 5000 # representing the size of the vocabulary\n",
    "embedding_dim = 64 # dimensionality of the word embeddings\n",
    "max_length = 200 #indicating the maximum length of input sequences\n",
    "padding_type = 'post' # specifying that padding should be added at the end of sequences\n",
    "trunc_type = 'post' #indicating that truncation should be applied at the end of sequences\n",
    "oov_tok = 'OOV' #representing the token to be used for out-of-vocabulary words\n",
    "training_portion = 0.8 # the proportion of data to be used for training"
   ]
  },
  {
   "cell_type": "code",
   "execution_count": 4,
   "metadata": {},
   "outputs": [
    {
     "name": "stdout",
     "output_type": "stream",
     "text": [
      "shouldn|were|by|such|but|ourselves|than|don|whom|nor|any|didn|down|won't|yours|these|does|on|off|hasn|then|weren't|who|too|you'd|under|ve|was|where|because|all|ours|yourself|other|in|until|why|isn|mightn|here|just|is|further|aren|to|be|for|so|am|at|only|re|after|y|hadn|me|themselves|and|into|haven|if|them|you'll|more|myself|do|hers|m|wasn|i|will|mightn't|wouldn't|below|now|same|you've|mustn't|ll|himself|haven't|that'll|isn't|no|that|he|aren't|him|couldn't|needn|it's|your|she|a|as|should|ain|my|with|s|not|herself|through|this|or|over|out|we|you|very|before|doesn|shan|during|are|itself|there|an|you're|once|our|again|did|both|weren|her|mustn|those|some|being|it|which|above|doesn't|yourselves|had|each|can|its|been|hadn't|hasn't|how|needn't|didn't|have|about|his|between|theirs|d|couldn|doing|o|what|against|of|wasn't|shan't|she's|ma|should've|from|up|won|few|having|they|shouldn't|own|most|their|wouldn|the|t|has|while|don't|when\n"
     ]
    }
   ],
   "source": [
    "STOPWORDS\n",
    "stopwords = ''\n",
    "for word in STOPWORDS:\n",
    "    stopwords +=(f'{word}|')\n",
    "\n",
    "    \n",
    "#removing the last '|' symbol from stopwords\n",
    "stopwords = stopwords[:len(stopwords)-1]\n",
    "print(stopwords)"
   ]
  },
  {
   "cell_type": "code",
   "execution_count": 5,
   "metadata": {},
   "outputs": [],
   "source": [
    "#converting the extra (')s to strings\n",
    "stopwords = 'ourselves|there|d|very|each|down|how|we|hers|will|it\\'s|re|haven\\'t|y|they|didn\\'t|you|at|themselves|shan|should|shouldn\\'t|am|should\\'ve|him|s|won\\'t|their|while|so|to|why|were|and|is|i|does|until|been|out|up|wouldn\\'t|all|can|mightn|it|mustn\\'t|theirs|no|haven|under|both|be|that\\'ll|that|against|which|having|now|her|an|ll|after|ours|have|t|from|during|them|other|itself|yourself|had|nor|in|here|few|if|wasn|most|my|couldn|you\\'re|only|couldn\\'t|on|about|because|a|you\\'d|yourselves|of|ain|being|before|who|some|but|isn\\'t|over|wouldn|you\\'ll|weren\\'t|she|this|such|ma|not|wasn\\'t|myself|yours|did|too|what|when|weren|his|whom|those|didn|won|by|than|o|doesn\\'t|hadn\\'t|or|own|its|any|has|with|shan\\'t|through|he|just|mustn|more|same|ve|the|aren|above|these|don|as|she\\'s|again|our|doing|himself|hasn\\'t|once|isn|you\\'ve|aren\\'t|hasn|where|do|then|your|are|was|below|don\\'t|me|m|shouldn|between|needn|hadn|needn\\'t|into|herself|for|off|doesn|mightn\\'t|further'"
   ]
  },
  {
   "cell_type": "markdown",
   "metadata": {
    "deletable": false,
    "editable": false,
    "id": "x5682GVs7k66",
    "nbgrader": {
     "grade": false,
     "locked": true,
     "solution": false
    }
   },
   "source": [
    "### Step 3: Preprocessing the Data and Printing the Lengths of the Labels and Articles Lists.\n",
    "\n",
    "- Define two empty lists, articles, and labels to store the articles and labels, respectively\n",
    "- Read the contents of the **bbc-text.csv** file using csv.reader and iterate through each row\n",
    "- Extract the label from the first column of each row and append it to the labels list\n",
    "- Process the article from the second column by removing stopwords and replacing consecutive spaces with a single space and then append it to the articles list\n",
    "- Print the lengths of the labels and articles lists to display the number of labels and processed articles, respectively"
   ]
  },
  {
   "cell_type": "code",
   "execution_count": null,
   "metadata": {
    "id": "YOrfsrUe7k67",
    "outputId": "0a4c62c7-b3d9-4989-b984-dd18a5cb3f1c"
   },
   "outputs": [
    {
     "name": "stdout",
     "output_type": "stream",
     "text": [
      "howard hits back mongrel jibe michael howard said claim peter hain tory leader acting like attack mongrel shows labour rattled opposition. upbeat speech party spring conference brighton said labour campaigning tactics proved tories hitting home. mr hain made claim tory tactics anti-terror bill debate. something tells someone somewhere little bit rattled mr howard said. mr hain leader commons told bbc radio four today programme mr howard stance government anti-terrorism legislation putting country risk. accused tory leader behaving like attack mongrel playing opposition opposition sake. mr howard told party labour would anything say anything claim anything cling office costs. far year compared fagin shylock flying pig. morning peter hain even called mongrel. know something tells someone somewhere little bit rattled. environment secretary margaret beckett rejected mr howard comment telling radio 4 pm programme labour rattled. real duty try get people focus michael howard record proposals trying put forward country also many examples seeing believe really poor judgement behalf. mr howard said tory policies schools taxes immigration crime striking chord voters. since beginning year - election year - making political weather told party conference. mr howard denied playing politics raising case margaret dixon whose operation cancelled seven times grabbed headlines party two weeks ago. hit back labour claims used mrs dixon human shield. human shield mr blair human. mr howard said party plans immigration quotas also focus much media coverage racist - common sense. pledged cleaner hospitals better school discipline promise get rid political correctness national curriculum give everyone chance decent state education. come ordinary family. teenage michael howard applying cambridge today gordon brown would love. stressed party commitment cut taxes red tape increase basic state pension line earnings. finished personal appeal party activists go win next election. one day able tell children grandchildren tell mine. bit. played part. helped win famous election - election transformed country better. labour election co-ordinator alan milburn said: michael howard speech today confirms always said - strategy opportunism forward vision country. reference appearance mr howard family conference stage mr milburn said: michael howard perfectly entitled pose family today. hard working families across britain damaged plan cut £35bn public spending.\n",
      "2465\n",
      "2225 2225\n"
     ]
    }
   ],
   "source": [
    "import re\n",
    "\n",
    "articles = []\n",
    "labels = []\n",
    "\n",
    "# Create a regular expression pattern using the stopwords\n",
    "stopwords_pattern = r'\\b(?:ourselves|there|d|very|each|down|how|we|hers|will|it\\'s|re|haven\\'t|y|they|didn\\'t|you|at|themselves|shan|should|shouldn\\'t|am|should\\'ve|him|s|won\\'t|their|while|so|to|why|were|and|is|i|does|until|been|out|up|wouldn\\'t|all|can|mightn|it|mustn\\'t|theirs|no|haven|under|both|be|that\\'ll|that|against|which|having|now|her|an|ll|after|ours|have|t|from|during|them|other|itself|yourself|had|nor|in|here|few|if|wasn|most|my|couldn|you\\'re|only|couldn\\'t|on|about|because|a|you\\'d|yourselves|of|ain|being|before|who|some|but|isn\\'t|over|wouldn|you\\'ll|weren\\'t|she|this|such|ma|not|wasn\\'t|myself|yours|did|too|what|when|weren|his|whom|those|didn|won|by|than|o|doesn\\'t|hadn\\'t|or|own|its|any|has|with|shan\\'t|through|he|just|mustn|more|same|ve|the|aren|above|these|don|as|she\\'s|again|our|doing|himself|hasn\\'t|once|isn|you\\'ve|aren\\'t|hasn|where|do|then|your|are|was|below|don\\'t|me|m|shouldn|between|needn|hadn|needn\\'t|into|herself|for|off|doesn|mightn\\'t|further)\\b'\n",
    "lonely_period_pattern = r'\\s+\\.\\s+'\n",
    "\n",
    "with open('bbc-text.csv', newline='') as csvfile:\n",
    "    reader = csv.reader(csvfile, delimiter=',')\n",
    "    for row in reader:\n",
    "        labels.append(row[0])\n",
    "        article = row[1]\n",
    "\n",
    "        # Substitute occurrences of stopwords with an empty string\n",
    "        cleaned_article = re.sub(stopwords_pattern, '', article)\n",
    "        \n",
    "        # Substitute occurrences of misplaced periods with proper spacing\n",
    "        cleaned_article = re.sub(lonely_period_pattern, '. ', cleaned_article)\n",
    "        \n",
    "        # Remove extra spaces created by the substitutions\n",
    "        cleaned_article = re.sub(r'\\s+', ' ', cleaned_article).strip()\n",
    "    \n",
    "        articles.append(cleaned_article)\n",
    "\n",
    "# Optionally remove headers if they exist\n",
    "articles = articles[1:]\n",
    "labels = labels[1:]\n",
    "\n",
    "# Example output to check cleaning\n",
    "print(articles[5])\n",
    "print(len(articles[5]))\n",
    "print(len(labels), len(articles))"
   ]
  },
  {
   "cell_type": "markdown",
   "metadata": {
    "deletable": false,
    "editable": false,
    "id": "C72gvCwGSa0k",
    "nbgrader": {
     "grade": false,
     "locked": true,
     "solution": false
    }
   },
   "source": [
    "### Step 4: Splitting the Data into Training and Validation Sets\n",
    "- Calculate the **train_size** by multiplying the length of the articles list with __training_portion__ and converting it to an integer.\n",
    "- Create **train_articles** by slicing the articles list from index **0** to **train_size**.\n",
    "- Create **train_labels** by slicing the labels list from index** 0 **to **train_size**.\n",
    "- Create **validation_articles** by slicing the articles list from **train_size** onward.\n",
    "- Create **validation_labels** by slicing the labels list from **train_size** onward.\n",
    "- Print the **train_size** to display the calculated value.\n",
    "\n",
    "- The lengths of **train_articles**, **train_labels**, **validation_articles**, and **validation_labels** represent the number of items in each list."
   ]
  },
  {
   "cell_type": "code",
   "execution_count": null,
   "metadata": {
    "id": "EKMT9Fb37k68",
    "outputId": "f94cdaff-aa34-4b89-9fbb-b0ac8733c099"
   },
   "outputs": [
    {
     "name": "stdout",
     "output_type": "stream",
     "text": [
      "1780\n",
      "1780 1780 445 445\n"
     ]
    }
   ],
   "source": [
    "train_size = int(training_portion * (len(articles)))\n",
    "\n",
    "train_articles = articles[:train_size]\n",
    "train_labels = labels[:train_size]\n",
    "\n",
    "validation_articles = articles[train_size:]\n",
    "validation_labels = labels[train_size:]\n",
    "\n",
    "print(train_size)\n",
    "print(len(train_articles), len(train_labels), len(validation_articles), len(validation_labels))"
   ]
  },
  {
   "cell_type": "markdown",
   "metadata": {
    "deletable": false,
    "editable": false,
    "id": "bSR2G2lrWrue",
    "nbgrader": {
     "grade": false,
     "locked": true,
     "solution": false
    }
   },
   "source": [
    "### Step 5: Initializing a Tokenizer and Fitting It on the Training Articles\n",
    "\n",
    "- Initialize a **Tokenizer** object named tokenizer with the specified parameters: **num_words** representing the vocabulary size and **oov_token** representing the out-of-vocabulary token.\n",
    "- Fit the tokenizer on the training articles **(train_articles)** using the **fit_on_texts** method.\n",
    "- This step updates the tokenizer's internal word index based on the words in the training articles.\n",
    "- Assign the word index obtained from the tokenizer to the variable **word_index**.\n",
    "- Extract the first 10 items from the **word_index** dictionary.\n",
    "- Print the resulting dictionary."
   ]
  },
  {
   "cell_type": "code",
   "execution_count": null,
   "metadata": {
    "id": "2JrnZlTL7k68"
   },
   "outputs": [
    {
     "name": "stdout",
     "output_type": "stream",
     "text": [
      "[('OOV', 1), ('said', 2), ('mr', 3), ('would', 4), ('year', 5), ('also', 6), ('people', 7), ('new', 8), ('us', 9), ('one', 10)]\n"
     ]
    }
   ],
   "source": [
    "from itertools import islice\n",
    "\n",
    "tokenizer = Tokenizer(num_words = vocab_size,\n",
    "                     oov_token=oov_tok)\n",
    "\n",
    "tokenizer.fit_on_texts(train_articles)\n",
    "\n",
    "word_index = tokenizer.word_index\n",
    "\n",
    "\n",
    "def take(n, iterable):\n",
    "    \"\"\"Return the first n items of the iterable as a list.\"\"\"\n",
    "    return list(islice(iterable, n))\n",
    "\n",
    "n_itemword_indexs = take(10, word_index.items())\n",
    "print(n_itemword_indexs)"
   ]
  },
  {
   "cell_type": "markdown",
   "metadata": {
    "deletable": false,
    "editable": false,
    "id": "jTDip0vPe30D",
    "nbgrader": {
     "grade": false,
     "locked": true,
     "solution": false
    }
   },
   "source": [
    "### Step 6: Converting the Training Articles into Sequences Using the Tokenizer\n",
    "- Convert the training articles **(train_articles)** into sequences using the **texts_to_sequences** method of the tokenizer object and assign the result to **train_sequences**\n",
    "- Print the sequence representation of the 11th training article (index 10) by accessing **train_sequences[10]**"
   ]
  },
  {
   "cell_type": "code",
   "execution_count": null,
   "metadata": {
    "id": "qaNkkgzP7k69",
    "outputId": "67041ae9-3d47-4062-a77c-d431ccd9b13a"
   },
   "outputs": [
    {
     "name": "stdout",
     "output_type": "stream",
     "text": [
      "1780 1780\n"
     ]
    }
   ],
   "source": [
    "train_sequences = tokenizer.texts_to_sequences(train_articles)\n",
    "#train_sequences[10]\n",
    "\n",
    "\n",
    "train_padded = pad_sequences(sequences=train_sequences, \n",
    "                             maxlen=max_length,\n",
    "                             padding=padding_type,\n",
    "                             truncating=trunc_type)\n",
    "\n",
    "\n",
    "train_padded[10]\n",
    "print(len(train_sequences), len(train_padded))"
   ]
  },
  {
   "cell_type": "markdown",
   "metadata": {
    "deletable": false,
    "editable": false,
    "id": "E60-EoRMh58g",
    "nbgrader": {
     "grade": false,
     "locked": true,
     "solution": false
    }
   },
   "source": [
    "### Step 7: Padding the Sequence\n",
    "- Pad the sequences in **train_sequences** using the **pad_sequences** function\n",
    "- Set the maximum length of the padded sequences to **max_length**\n",
    "- Specify the padding type as **padding_type** and the truncation type as **trunc_type**\n",
    "- Assign the padded sequences to the variable **train_padded**"
   ]
  },
  {
   "cell_type": "code",
   "execution_count": null,
   "metadata": {
    "id": "msiF0l767k69"
   },
   "outputs": [
    {
     "name": "stdout",
     "output_type": "stream",
     "text": [
      "445 445\n"
     ]
    }
   ],
   "source": [
    "validation_sequences = tokenizer.texts_to_sequences(validation_articles)\n",
    "#validation_sequences[10]\n",
    "\n",
    "\n",
    "validation_padded = pad_sequences(sequences=validation_sequences, \n",
    "                             maxlen=max_length,\n",
    "                             padding=padding_type,\n",
    "                             truncating=trunc_type)\n",
    "#validation_padded[10]\n",
    "\n",
    "\n",
    "print(len(validation_sequences), len(validation_padded))"
   ]
  },
  {
   "cell_type": "markdown",
   "metadata": {
    "deletable": false,
    "editable": false,
    "id": "5QD6M00flHAm",
    "nbgrader": {
     "grade": false,
     "locked": true,
     "solution": false
    }
   },
   "source": [
    "### Step 8: Printing the Length of Validation Sequences and the Shape of Validation Padded\n",
    "- Convert the validation articles into sequences using the tokenizer and pad the sequences to a maximum length. Assign the result to **validation_padded**\n",
    "- Print the length of **validation_sequences** and the shape of **validation_padded**\n",
    "- Create a tokenizer for the labels and fit it on the labels list\n",
    "- Convert the training and validation labels into sequences using the label tokenizer and store the results in **training_label_seq** and **validation_label_seq** as NumPy arrays"
   ]
  },
  {
   "cell_type": "code",
   "execution_count": null,
   "metadata": {
    "id": "fpgc3k9y7k6-",
    "outputId": "8cb8841f-058e-40ab-da03-b9778dcc6a9b"
   },
   "outputs": [
    {
     "name": "stdout",
     "output_type": "stream",
     "text": [
      "[('sport', 1), ('business', 2), ('politics', 3), ('entertainment', 4), ('tech', 5)]\n",
      "1780 445\n",
      "<class 'numpy.ndarray'> <class 'numpy.ndarray'>\n"
     ]
    }
   ],
   "source": [
    "#LABEL TOKENIZER\n",
    "\n",
    "#creating label tokenizer\n",
    "tokenizer_label = Tokenizer(num_words = vocab_size)\n",
    "\n",
    "#fitting label tokenizer\n",
    "tokenizer_label.fit_on_texts(train_labels)\n",
    "\n",
    "#assigning label index and printing the itemlabel index\n",
    "label_index = tokenizer_label.word_index\n",
    "n_itemlabel_indexs = take(10, label_index.items())\n",
    "print(n_itemlabel_indexs)\n",
    "\n",
    "\n",
    "training_label_seq = tokenizer_label.texts_to_sequences(train_labels)\n",
    "training_label_seq = np.array(training_label_seq)\n",
    "#print(training_label_seq[10])\n",
    "\n",
    "\n",
    "validation_label_seq = tokenizer_label.texts_to_sequences(validation_labels)\n",
    "validation_label_seq = np.array(validation_label_seq)\n",
    "#print(validation_label_seq[10])\n",
    "\n",
    "#double checking len of label_seqs\n",
    "print(len(training_label_seq), len(validation_label_seq))\n",
    "#double checking type of label_seqs\n",
    "print(type(training_label_seq), type(validation_label_seq))"
   ]
  },
  {
   "cell_type": "markdown",
   "metadata": {
    "deletable": false,
    "editable": false,
    "id": "aefTdVG3ohC2",
    "nbgrader": {
     "grade": false,
     "locked": true,
     "solution": false
    }
   },
   "source": [
    "### Step 9: Training the Model\n",
    "- Create a sequential model using **tf.keras.Sequential()**\n",
    "- Add an embedding layer to the model with the specified vocabulary size **(vocab_size)** and embedding dimension **(embedding_dim)**\n",
    "- Add a bidirectional LSTM layer to the model with the same embedding dimension\n",
    "- Add a dense layer to the model with the embedding dimension as the number of units and **relu** activation function\n",
    "- Add a dense layer with 6 units and the **softmax** activation function to the model\n",
    "- Print a summary of the model's architecture using **model.summary()**"
   ]
  },
  {
   "cell_type": "code",
   "execution_count": null,
   "metadata": {
    "id": "R2k0E1Cb7k6_",
    "outputId": "f95aedf0-2704-41e5-b694-46d42812ca61"
   },
   "outputs": [],
   "source": [
    "model =  tf.keras.Sequential([\n",
    "    layers.Embedding(input_dim=vocab_size, output_dim=embedding_dim),\n",
    "    layers.Bidirectional(layers.LSTM(units=embedding_dim)),\n",
    "    layers.Dense(units=embedding_dim, activation='relu'),\n",
    "    layers.Dense(units=6, activation='softmax')\n",
    "])"
   ]
  },
  {
   "cell_type": "markdown",
   "metadata": {
    "deletable": false,
    "editable": false,
    "id": "2es6RORPqq1M",
    "nbgrader": {
     "grade": false,
     "locked": true,
     "solution": false
    }
   },
   "source": [
    "### Step 10: Compiling the Model\n",
    "- Compile the model using **model.compile()** with the loss function set to **sparse_categorical_crossentropy**, the optimizer set to **adam**, and the metrics set to **accuracy**\n",
    "- Set the number of epochs to 10\n",
    "- Train the model using **model.fit()** with the training padded sequences **(train_padded)** and training label sequences **(training_label_seq)**\n",
    "- Specify the number of epochs as **num_epochs**, the validation data as the validation padded sequences **(validation_padded)** and validation label sequences **(validation_label_seq)**, and **verbose** mode as **2**"
   ]
  },
  {
   "cell_type": "code",
   "execution_count": null,
   "metadata": {
    "id": "oOBn4QRv7k6_",
    "outputId": "fa0bff37-a54e-482f-a868-cc10ffd5b163"
   },
   "outputs": [
    {
     "name": "stdout",
     "output_type": "stream",
     "text": [
      "Epoch 1/10\n",
      "56/56 - 11s - loss: 1.5361 - accuracy: 0.3112 - val_loss: 1.1557 - val_accuracy: 0.5528 - 11s/epoch - 202ms/step\n",
      "Epoch 2/10\n",
      "56/56 - 9s - loss: 0.9541 - accuracy: 0.6270 - val_loss: 0.8530 - val_accuracy: 0.7596 - 9s/epoch - 152ms/step\n",
      "Epoch 3/10\n",
      "56/56 - 9s - loss: 0.4168 - accuracy: 0.8803 - val_loss: 0.3057 - val_accuracy: 0.9326 - 9s/epoch - 153ms/step\n",
      "Epoch 4/10\n",
      "56/56 - 9s - loss: 0.1309 - accuracy: 0.9596 - val_loss: 0.2944 - val_accuracy: 0.9213 - 9s/epoch - 152ms/step\n",
      "Epoch 5/10\n",
      "56/56 - 8s - loss: 0.0608 - accuracy: 0.9831 - val_loss: 0.1954 - val_accuracy: 0.9416 - 8s/epoch - 152ms/step\n",
      "Epoch 6/10\n",
      "56/56 - 9s - loss: 0.0196 - accuracy: 0.9955 - val_loss: 0.2039 - val_accuracy: 0.9371 - 9s/epoch - 152ms/step\n",
      "Epoch 7/10\n",
      "56/56 - 9s - loss: 0.0145 - accuracy: 0.9949 - val_loss: 0.4097 - val_accuracy: 0.8787 - 9s/epoch - 153ms/step\n",
      "Epoch 8/10\n",
      "56/56 - 9s - loss: 0.0988 - accuracy: 0.9736 - val_loss: 0.2104 - val_accuracy: 0.9461 - 9s/epoch - 152ms/step\n",
      "Epoch 9/10\n",
      "56/56 - 9s - loss: 0.0095 - accuracy: 0.9983 - val_loss: 0.1961 - val_accuracy: 0.9461 - 9s/epoch - 152ms/step\n",
      "Epoch 10/10\n",
      "56/56 - 9s - loss: 0.0031 - accuracy: 1.0000 - val_loss: 0.2013 - val_accuracy: 0.9506 - 9s/epoch - 152ms/step\n"
     ]
    }
   ],
   "source": [
    "model.compile(loss='sparse_categorical_crossentropy', optimizer='adam', metrics='accuracy')\n",
    "\n",
    "num_epochs = 10\n",
    "model_history = model.fit(x=train_padded, \n",
    "                          y=training_label_seq, \n",
    "                          epochs = num_epochs, \n",
    "                          validation_data=(validation_padded, validation_label_seq), \n",
    "                          verbose = 2)"
   ]
  },
  {
   "cell_type": "markdown",
   "metadata": {
    "deletable": false,
    "editable": false,
    "id": "JlqqXKGDtBhm",
    "nbgrader": {
     "grade": false,
     "locked": true,
     "solution": false
    }
   },
   "source": [
    "### Step 11: Plotting the Graph\n",
    "- Define a function named **plot_graphs** that takes history and string as inputs. Inside the function, plot the training and validation values of the given metric (string) from the history object using **plt.plot()**\n",
    "- Set the x-axis label as **Epochs** and the y-axis label as the given metric (string)\n",
    "- Call the **plot_graphs** function twice, first with **history** and **accuracy** as arguments, and then with **history** and **loss** as arguments\n",
    "- Display the generated plots showing the training and validation values of the accuracy and loss metrics over the epochs"
   ]
  },
  {
   "cell_type": "code",
   "execution_count": null,
   "metadata": {
    "id": "ovA5JGsp7k6_",
    "outputId": "ad5c088c-79a0-42aa-c6d9-9c70e1b4a618"
   },
   "outputs": [
    {
     "data": {
      "image/png": "[encoded data removed]",
      "text/plain": [
       "<Figure size 432x288 with 1 Axes>"
      ]
     },
     "metadata": {
      "needs_background": "light"
     },
     "output_type": "display_data"
    },
    {
     "data": {
      "image/png": "[encoded data removed]",
      "text/plain": [
       "<Figure size 432x288 with 1 Axes>"
      ]
     },
     "metadata": {
      "needs_background": "light"
     },
     "output_type": "display_data"
    }
   ],
   "source": [
    "def plot_graphs(history, metric):\n",
    "    # Plot the metric values for training and validation\n",
    "    plt.plot(history.history[metric])\n",
    "    plt.plot(history.history['val_' + metric])\n",
    "    plt.xlabel('Epochs')\n",
    "    plt.ylabel(metric.capitalize())\n",
    "    plt.legend(['Training', 'Validation'])\n",
    "    plt.title(f'Training and Validation {metric.capitalize()}')\n",
    "    plt.show()\n",
    "\n",
    "# Plot accuracy\n",
    "plot_graphs(model_history, 'accuracy')\n",
    "\n",
    "# Plot loss\n",
    "plot_graphs(model_history, 'loss')"
   ]
  },
  {
   "cell_type": "code",
   "execution_count": 46,
   "metadata": {},
   "outputs": [
    {
     "name": "stdout",
     "output_type": "stream",
     "text": [
      "14/14 [==============================] - 0s 35ms/step\n",
      "True Labels:  [4 5 3 1 1 5 2 5 4 4 3 3 2 4 1 4 4 2 1 3 5 2 1 4 5 3 3 1 1 2 2 2 2 2 4 2 3\n",
      " 3 5 5 4 3 4 2 3 1 1 2 5 2 5 1 2 2 3 1 1 3 3 4 4 3 2 3 3 2 5 3 3 3 3 3 4 4\n",
      " 5 3 1 3 1 5 1 1 1 4 5 4 5 1 5 1 1 4 4 2 4 4 3 2 1 5 5 3 2 1 2 4 1 3 4 1 1\n",
      " 2 3 5 5 2 2 1 3 4 1 1 3 4 5 1 4 2 3 1 3 5 4 1 3 2 4 3 4 3 1 3 2 2 3 2 5 1\n",
      " 2 4 2 1 1 4 5 3 5 3 3 1 1 1 2 5 4 2 1 2 1 2 5 2 2 2 2 1 1 1 2 2 4 2 2 2 1\n",
      " 1 1 5 2 1 1 1 2 4 5 5 5 3 2 2 5 2 5 1 1 3 3 3 1 1 3 3 5 2 1 1 1 1 2 1 2 2\n",
      " 2 2 1 3 1 5 5 1 5 2 4 2 1 2 5 5 3 4 2 4 2 5 3 4 3 4 4 5 2 5 5 2 3 1 4 2 3\n",
      " 4 2 5 1 5 3 1 3 2 3 3 2 2 2 5 3 2 3 2 4 3 1 3 3 1 4 5 5 2 5 1 2 2 3 1 5 5\n",
      " 5 1 4 1 3 2 3 3 4 5 2 5 1 4 4 1 2 4 5 5 1 4 2 3 3 3 5 5 2 3 2 3 3 4 1 5 2\n",
      " 5 4 5 5 1 3 1 1 3 4 4 2 3 3 1 2 2 5 2 5 5 1 2 3 1 2 2 1 5 1 5 4 1 1 4 2 5\n",
      " 1 1 3 5 2 3 1 1 3 4 5 5 5 2 1 4 4 5 2 3 5 1 1 5 5 3 2 1 4 4 1 4 5 5 2 2 2\n",
      " 1 1 5 1 2 5 2 2 1 2 3 2 2 5 2 5 3 5 4 3 5 4 1 3 4 2 5 2 5 4 5 1 2 2 3 4 3\n",
      " 1] \n",
      "Predicted Labels: [4 5 3 1 1 5 2 5 3 4 3 3 2 4 1 4 4 2 1 3 5 2 1 4 5 3 3 1 1 3 2 2 2 2 4 2 3\n",
      " 3 5 5 4 3 4 2 3 1 1 2 5 2 5 1 2 2 3 1 1 3 3 4 4 3 2 2 3 2 5 3 1 3 3 3 4 4\n",
      " 5 3 1 4 1 5 4 1 1 4 5 4 5 1 5 1 1 4 4 2 4 4 3 2 1 5 5 2 2 1 2 4 1 3 4 1 1\n",
      " 2 3 5 5 2 2 1 3 4 1 1 3 5 5 5 4 2 3 1 3 5 4 1 3 2 4 3 4 3 1 3 2 2 3 2 5 1\n",
      " 2 4 2 1 1 4 5 3 5 3 3 1 1 1 2 5 4 2 1 2 1 2 5 2 2 2 2 1 1 1 2 2 4 2 2 2 1\n",
      " 1 1 5 2 1 1 1 2 4 5 5 5 3 2 2 5 2 5 1 1 3 3 3 1 1 3 3 5 2 1 1 1 1 2 1 2 2\n",
      " 2 2 1 3 1 5 5 1 5 2 4 2 1 2 5 5 3 4 2 4 2 5 3 4 3 4 4 5 2 2 5 2 2 1 4 2 3\n",
      " 4 2 5 1 5 3 1 3 2 3 3 2 2 2 5 3 2 3 2 4 3 1 2 3 1 4 5 5 2 5 1 2 2 2 1 5 5\n",
      " 5 1 4 1 3 2 3 3 4 5 2 5 1 4 4 1 2 4 5 5 1 4 2 2 3 3 5 5 2 3 2 5 3 4 1 5 2\n",
      " 5 4 5 5 4 3 1 1 3 4 4 2 3 3 1 2 2 5 2 5 5 1 2 3 1 2 2 1 5 1 5 4 1 1 4 2 5\n",
      " 1 1 3 5 2 3 1 1 3 2 5 5 2 2 1 4 5 5 2 3 5 1 1 5 5 3 2 1 4 4 1 4 5 1 2 2 2\n",
      " 1 1 5 1 2 5 2 2 1 2 3 2 2 4 2 5 3 5 4 3 5 4 1 3 4 1 5 2 5 4 5 1 2 2 3 4 3\n",
      " 1]\n"
     ]
    },
    {
     "data": {
      "image/png": "[encoded data removed]",
      "text/plain": [
       "<Figure size 576x432 with 2 Axes>"
      ]
     },
     "metadata": {
      "needs_background": "light"
     },
     "output_type": "display_data"
    }
   ],
   "source": [
    "import matplotlib.pyplot as plt\n",
    "import seaborn as sns\n",
    "from sklearn.metrics import confusion_matrix\n",
    "\n",
    "def plot_single_confusion_matrix(y_true, y_pred, class_names):\n",
    "    \"\"\"\n",
    "    Plot a single confusion matrix for the given true and predicted labels.\n",
    "\n",
    "    Args:\n",
    "    y_true: List or array of true labels.\n",
    "    y_pred: List or array of predicted labels.\n",
    "    class_names: List of class names for the labels.\n",
    "    \"\"\"\n",
    "    # Compute confusion matrix\n",
    "    cm = confusion_matrix(y_true, y_pred, labels=range(1, len(class_names) + 1))\n",
    "    \n",
    "    # Create a heatmap for the confusion matrix\n",
    "    plt.figure(figsize=(8, 6))\n",
    "    sns.heatmap(cm, annot=False, robust=True, cmap='rocket', xticklabels=class_names, yticklabels=class_names)\n",
    "    plt.title('Confusion Matrix')\n",
    "    plt.xlabel('Predicted Labels')\n",
    "    plt.ylabel('True Labels')\n",
    "    plt.show()\n",
    "\n",
    "\n",
    "    \n",
    "\n",
    "y_true = np.ravel(validation_label_seq)\n",
    "predictions = model.predict(validation_padded)\n",
    "y_pred =  np.argmax(predictions, axis=1)\n",
    "\n",
    "print('True Labels: ', y_true, '\\nPredicted Labels:',y_pred)\n",
    "\n",
    "# Class names based on your previous input\n",
    "class_names = ['sport', 'business', 'politics', 'entertainment', 'tech']\n",
    "\n",
    "# Call the function to plot the confusion matrix\n",
    "plot_single_confusion_matrix(y_true, y_pred, class_names)"
   ]
  },
  {
   "cell_type": "markdown",
   "metadata": {},
   "source": [
    "# Final Model is able to accuratley classify text based on the words included with in the text."
   ]
  }
 ],
 "metadata": {
  "colab": {
   "provenance": []
  },
  "kernelspec": {
   "display_name": "Python 3 [3.10]",
   "language": "python",
   "name": "python3"
  },
  "language_info": {
   "codemirror_mode": {
    "name": "ipython",
    "version": 3
   },
   "file_extension": ".py",
   "mimetype": "text/x-python",
   "name": "python",
   "nbconvert_exporter": "python",
   "pygments_lexer": "ipython3",
   "version": "3.10.2"
  }
 },
 "nbformat": 4,
 "nbformat_minor": 4
}
