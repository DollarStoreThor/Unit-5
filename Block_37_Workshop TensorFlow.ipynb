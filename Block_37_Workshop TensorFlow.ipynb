{
 "cells": [
  {
   "cell_type": "markdown",
   "id": "6edb68bb",
   "metadata": {
    "cellIdentifier": "dwax4ozmkx4wqkve1z18m",
    "deletable": false,
    "editable": false,
    "id": "6edb68bb",
    "nbgrader": {
     "grade": false,
     "locked": true,
     "solution": false
    }
   },
   "source": [
    "# Block 37: Workshop\n",
    "## Image Classification of Fashion Items\n",
    "\n",
    "\n",
    "## Scenario:\n",
    "Fashion retailers globally are constantly seeking ways to improve their online shopping experience. One of the key challenges they face is accurately categorizing and tagging items based on their images. This is vital not only for internal product management but also for enhancing user experience. For instance, when a shopper searches for 'blue jeans', the retailer's website should be able to show all relevant items. To achieve this, the retailer requires a robust image classification system. \n",
    "\n",
    "### Objective:\n",
    "Develop a machine learning model to accurately classify fashion items based on their images into predefined categories.\n",
    "\n",
    "### Dataset:\n",
    "You will use the Fashion MNIST dataset. This dataset contains 70,000 grayscale images in 10 categories. The images show individual articles of clothing at a low resolution (28 by 28 pixels). Though the dataset is available on the GitHub repository, it's also widely available on Kaggle. You can download it directly from Kaggle's Fashion MNIST page.\n",
    "\n",
    "### Categories:\n",
    "T-shirt/top,\n",
    "Trouser,\n",
    "Pullover,\n",
    "Dress,\n",
    "Coat,\n",
    "Sandal,\n",
    "Shirt,\n",
    "Sneaker,\n",
    "Bag,\n",
    "Ankle boot\n",
    "\n",
    "### Directions to Solve:\n",
    "- Data Exploration: Explore the Fashion MNIST dataset to understand its structure, data types, and distributions.\n",
    "\n",
    "- Data Preprocessing: Normalize the images, handle missing values (if any), and split the data into training and test sets.\n",
    "\n",
    "- Model Building: Use TensorFlow and Keras to design a deep learning model suitable for image classification. Consider using Convolutional Neural Networks (CNN) as they have proven to be effective for image data.\n",
    "\n",
    "- Training: Train the model using the training dataset. Monitor the training loss and accuracy.\n",
    "\n",
    "- Evaluation: Evaluate the model's performance on the test dataset. Calculate metrics such as accuracy, precision, recall, and F1 score.\n",
    "\n",
    "- Optimization: If the model's performance is not satisfactory, consider techniques like data augmentation, changing the model architecture, or using different optimizers to enhance performance.\n",
    "\n",
    "- Deployment: Once satisfied, consider deploying the model as a web service or integrating it into the retailer's existing system."
   ]
  },
  {
   "cell_type": "markdown",
   "id": "4cc1f670",
   "metadata": {
    "cellIdentifier": "xh6dipm7gjh5cz41zee0g",
    "deletable": false,
    "editable": false,
    "id": "4cc1f670",
    "nbgrader": {
     "grade": false,
     "locked": true,
     "solution": false
    }
   },
   "source": [
    "\n",
    "## Dataset:\n",
    "The dataset can be downloaded from [Kaggle's Fashion MNIST page](https://www.kaggle.com/zalando-research/fashionmnist).\n"
   ]
  },
  {
   "cell_type": "code",
   "execution_count": 27,
   "id": "b3ea428d",
   "metadata": {
    "cellIdentifier": "3fvjdvca8zv7t7iputg15r",
    "colab": {
     "base_uri": "https://localhost:8080/",
     "height": 968
    },
    "id": "b3ea428d",
    "outputId": "4e4ccf63-1777-44d3-afa9-1b415bf43828"
   },
   "outputs": [],
   "source": [
    "#Import Statements\n",
    "import pandas as pd # DataFrame and Series \n",
    "import numpy as np # Arrays and numerical functions\n",
    "import matplotlib.pyplot as plt # Basic data viz\n",
    "import seaborn as sns # Data visualizations\n",
    "\n",
    "from sklearn.preprocessing import LabelEncoder, StandardScaler, OneHotEncoder  # Import specific preprocessing tools from scikit-learn.\n",
    "from sklearn.model_selection import train_test_split  # Import a function for splitting data into training and testing sets.\n",
    "from sklearn.metrics import confusion_matrix, ConfusionMatrixDisplay, classification_report\n",
    "\n",
    "# Import TensorFlow and Keras\n",
    "# Import TensorFlow, a popular deep learning framework.\n",
    "import tensorflow as tf\n",
    "from tensorflow import keras  # Import Keras, the high-level neural networks\n",
    "from tensorflow.keras.models import Sequential\n",
    "from tensorflow.keras import Model, layers\n"
   ]
  },
  {
   "cell_type": "markdown",
   "id": "d97aa7d6",
   "metadata": {
    "cellIdentifier": "h1w0luzx1xuzkve0c30sm",
    "deletable": false,
    "editable": false,
    "nbgrader": {
     "grade": false,
     "locked": true,
     "solution": false
    }
   },
   "source": [
    "1. Load the dataset."
   ]
  },
  {
   "cell_type": "code",
   "execution_count": 28,
   "id": "a4fe137c",
   "metadata": {
    "cellIdentifier": "0af05nin2q3j5nqt7ms76ij"
   },
   "outputs": [],
   "source": [
    "# Load the dataset\n",
    "(x_train, y_train), (x_test, y_test) = tf.keras.datasets.fashion_mnist.load_data()"
   ]
  },
  {
   "cell_type": "markdown",
   "id": "63309b5d",
   "metadata": {
    "cellIdentifier": "lere6k7v7150x567a4to",
    "deletable": false,
    "editable": false,
    "nbgrader": {
     "grade": false,
     "locked": true,
     "solution": false
    }
   },
   "source": [
    "2. Display the first few images."
   ]
  },
  {
   "cell_type": "code",
   "execution_count": null,
   "id": "dcfa66d9",
   "metadata": {
    "cellIdentifier": "wh7hxrlyglxhah9t4tv"
   },
   "outputs": [
    {
     "name": "stdout",
     "output_type": "stream",
     "text": [
      "Train: x=(60000, 28, 28) , y= (60000,)\n",
      "Test: x=(10000, 28, 28) , y= (10000,)\n"
     ]
    },
    {
     "data": {
      "image/png": "[encoded data removed]",
      "text/plain": [
       "<Figure size 640x480 with 9 Axes>"
      ]
     },
     "metadata": {},
     "output_type": "display_data"
    }
   ],
   "source": [
    "###\n",
    "### YOUR CODE HERE\n",
    "###\n",
    "print('Train: x=%s , y= %s' % (x_train.shape, y_train.shape))\n",
    "print('Test: x=%s , y= %s' % (x_test.shape, y_test.shape))\n",
    "\n",
    "for i in range(9):\n",
    "    plt.subplot(330 + 1+i)\n",
    "    plt.imshow(x_train[i], cmap= plt.get_cmap('gray'))\n",
    "plt.show()"
   ]
  },
  {
   "cell_type": "markdown",
   "id": "6f3574bc",
   "metadata": {
    "cellIdentifier": "2avvrqdqpfsyujy82ksfq",
    "deletable": false,
    "editable": false,
    "nbgrader": {
     "grade": false,
     "locked": true,
     "solution": false
    }
   },
   "source": [
    "3. Normalize the images"
   ]
  },
  {
   "cell_type": "code",
   "execution_count": 31,
   "id": "50147f34",
   "metadata": {
    "cellIdentifier": "x1to0c8gvm82ucyoj6w7v"
   },
   "outputs": [],
   "source": [
    "# Normalizing the pixel values in the training set (x_train) by dividing them by 255.0\n",
    "x_train, x_test = x_train/255.0 , x_test/255.0"
   ]
  },
  {
   "cell_type": "markdown",
   "id": "fd0b46bb",
   "metadata": {
    "cellIdentifier": "85w669wtumrbjcyt2f69sc",
    "deletable": false,
    "editable": false,
    "nbgrader": {
     "grade": false,
     "locked": true,
     "solution": false
    }
   },
   "source": [
    "4. Reshape the data to include the channel dimension."
   ]
  },
  {
   "cell_type": "code",
   "execution_count": 32,
   "id": "98a325fb",
   "metadata": {
    "cellIdentifier": "80bd3oro61242gvl8hvj2v",
    "id": "98a325fb"
   },
   "outputs": [],
   "source": [
    "# Reshape the data to include the channel dimension\n",
    "x_train = x_train.reshape(x_train.shape[0], 28, 28, 1)\n",
    "x_test = x_test.reshape(x_test.shape[0], 28, 28, 1)"
   ]
  },
  {
   "cell_type": "markdown",
   "id": "79a2e5d9",
   "metadata": {
    "cellIdentifier": "aloasirytn8j7j6t2u5iet",
    "deletable": false,
    "editable": false,
    "nbgrader": {
     "grade": false,
     "locked": true,
     "solution": false
    }
   },
   "source": [
    "5. Build the model."
   ]
  },
  {
   "cell_type": "code",
   "execution_count": 33,
   "id": "28550b83",
   "metadata": {
    "cellIdentifier": "igmfjrj7su560pjpdd8tw"
   },
   "outputs": [
    {
     "name": "stderr",
     "output_type": "stream",
     "text": [
      "c:\\Users\\arado\\AppData\\Local\\Programs\\Python\\Python310\\lib\\site-packages\\keras\\src\\layers\\convolutional\\base_conv.py:107: UserWarning: Do not pass an `input_shape`/`input_dim` argument to a layer. When using Sequential models, prefer using an `Input(shape)` object as the first layer in the model instead.\n",
      "  super().__init__(activity_regularizer=activity_regularizer, **kwargs)\n"
     ]
    },
    {
     "data": {
      "text/html": [
       "<pre style=\"white-space:pre;overflow-x:auto;line-height:normal;font-family:Menlo,'DejaVu Sans Mono',consolas,'Courier New',monospace\"><span style=\"font-weight: bold\">Model: \"sequential_1\"</span>\n",
       "</pre>\n"
      ],
      "text/plain": [
       "\u001b[1mModel: \"sequential_1\"\u001b[0m\n"
      ]
     },
     "metadata": {},
     "output_type": "display_data"
    },
    {
     "data": {
      "text/html": [
       "<pre style=\"white-space:pre;overflow-x:auto;line-height:normal;font-family:Menlo,'DejaVu Sans Mono',consolas,'Courier New',monospace\">┏━━━━━━━━━━━━━━━━━━━━━━━━━━━━━━━━━┳━━━━━━━━━━━━━━━━━━━━━━━━┳━━━━━━━━━━━━━━━┓\n",
       "┃<span style=\"font-weight: bold\"> Layer (type)                    </span>┃<span style=\"font-weight: bold\"> Output Shape           </span>┃<span style=\"font-weight: bold\">       Param # </span>┃\n",
       "┡━━━━━━━━━━━━━━━━━━━━━━━━━━━━━━━━━╇━━━━━━━━━━━━━━━━━━━━━━━━╇━━━━━━━━━━━━━━━┩\n",
       "│ conv2d_1 (<span style=\"color: #0087ff; text-decoration-color: #0087ff\">Conv2D</span>)               │ (<span style=\"color: #00d7ff; text-decoration-color: #00d7ff\">None</span>, <span style=\"color: #00af00; text-decoration-color: #00af00\">26</span>, <span style=\"color: #00af00; text-decoration-color: #00af00\">26</span>, <span style=\"color: #00af00; text-decoration-color: #00af00\">32</span>)     │           <span style=\"color: #00af00; text-decoration-color: #00af00\">320</span> │\n",
       "├─────────────────────────────────┼────────────────────────┼───────────────┤\n",
       "│ max_pooling2d_1 (<span style=\"color: #0087ff; text-decoration-color: #0087ff\">MaxPooling2D</span>)  │ (<span style=\"color: #00d7ff; text-decoration-color: #00d7ff\">None</span>, <span style=\"color: #00af00; text-decoration-color: #00af00\">13</span>, <span style=\"color: #00af00; text-decoration-color: #00af00\">13</span>, <span style=\"color: #00af00; text-decoration-color: #00af00\">32</span>)     │             <span style=\"color: #00af00; text-decoration-color: #00af00\">0</span> │\n",
       "├─────────────────────────────────┼────────────────────────┼───────────────┤\n",
       "│ flatten_1 (<span style=\"color: #0087ff; text-decoration-color: #0087ff\">Flatten</span>)             │ (<span style=\"color: #00d7ff; text-decoration-color: #00d7ff\">None</span>, <span style=\"color: #00af00; text-decoration-color: #00af00\">5408</span>)           │             <span style=\"color: #00af00; text-decoration-color: #00af00\">0</span> │\n",
       "├─────────────────────────────────┼────────────────────────┼───────────────┤\n",
       "│ dense_2 (<span style=\"color: #0087ff; text-decoration-color: #0087ff\">Dense</span>)                 │ (<span style=\"color: #00d7ff; text-decoration-color: #00d7ff\">None</span>, <span style=\"color: #00af00; text-decoration-color: #00af00\">128</span>)            │       <span style=\"color: #00af00; text-decoration-color: #00af00\">692,352</span> │\n",
       "├─────────────────────────────────┼────────────────────────┼───────────────┤\n",
       "│ dense_3 (<span style=\"color: #0087ff; text-decoration-color: #0087ff\">Dense</span>)                 │ (<span style=\"color: #00d7ff; text-decoration-color: #00d7ff\">None</span>, <span style=\"color: #00af00; text-decoration-color: #00af00\">10</span>)             │         <span style=\"color: #00af00; text-decoration-color: #00af00\">1,290</span> │\n",
       "└─────────────────────────────────┴────────────────────────┴───────────────┘\n",
       "</pre>\n"
      ],
      "text/plain": [
       "┏━━━━━━━━━━━━━━━━━━━━━━━━━━━━━━━━━┳━━━━━━━━━━━━━━━━━━━━━━━━┳━━━━━━━━━━━━━━━┓\n",
       "┃\u001b[1m \u001b[0m\u001b[1mLayer (type)                   \u001b[0m\u001b[1m \u001b[0m┃\u001b[1m \u001b[0m\u001b[1mOutput Shape          \u001b[0m\u001b[1m \u001b[0m┃\u001b[1m \u001b[0m\u001b[1m      Param #\u001b[0m\u001b[1m \u001b[0m┃\n",
       "┡━━━━━━━━━━━━━━━━━━━━━━━━━━━━━━━━━╇━━━━━━━━━━━━━━━━━━━━━━━━╇━━━━━━━━━━━━━━━┩\n",
       "│ conv2d_1 (\u001b[38;5;33mConv2D\u001b[0m)               │ (\u001b[38;5;45mNone\u001b[0m, \u001b[38;5;34m26\u001b[0m, \u001b[38;5;34m26\u001b[0m, \u001b[38;5;34m32\u001b[0m)     │           \u001b[38;5;34m320\u001b[0m │\n",
       "├─────────────────────────────────┼────────────────────────┼───────────────┤\n",
       "│ max_pooling2d_1 (\u001b[38;5;33mMaxPooling2D\u001b[0m)  │ (\u001b[38;5;45mNone\u001b[0m, \u001b[38;5;34m13\u001b[0m, \u001b[38;5;34m13\u001b[0m, \u001b[38;5;34m32\u001b[0m)     │             \u001b[38;5;34m0\u001b[0m │\n",
       "├─────────────────────────────────┼────────────────────────┼───────────────┤\n",
       "│ flatten_1 (\u001b[38;5;33mFlatten\u001b[0m)             │ (\u001b[38;5;45mNone\u001b[0m, \u001b[38;5;34m5408\u001b[0m)           │             \u001b[38;5;34m0\u001b[0m │\n",
       "├─────────────────────────────────┼────────────────────────┼───────────────┤\n",
       "│ dense_2 (\u001b[38;5;33mDense\u001b[0m)                 │ (\u001b[38;5;45mNone\u001b[0m, \u001b[38;5;34m128\u001b[0m)            │       \u001b[38;5;34m692,352\u001b[0m │\n",
       "├─────────────────────────────────┼────────────────────────┼───────────────┤\n",
       "│ dense_3 (\u001b[38;5;33mDense\u001b[0m)                 │ (\u001b[38;5;45mNone\u001b[0m, \u001b[38;5;34m10\u001b[0m)             │         \u001b[38;5;34m1,290\u001b[0m │\n",
       "└─────────────────────────────────┴────────────────────────┴───────────────┘\n"
      ]
     },
     "metadata": {},
     "output_type": "display_data"
    },
    {
     "data": {
      "text/html": [
       "<pre style=\"white-space:pre;overflow-x:auto;line-height:normal;font-family:Menlo,'DejaVu Sans Mono',consolas,'Courier New',monospace\"><span style=\"font-weight: bold\"> Total params: </span><span style=\"color: #00af00; text-decoration-color: #00af00\">693,962</span> (2.65 MB)\n",
       "</pre>\n"
      ],
      "text/plain": [
       "\u001b[1m Total params: \u001b[0m\u001b[38;5;34m693,962\u001b[0m (2.65 MB)\n"
      ]
     },
     "metadata": {},
     "output_type": "display_data"
    },
    {
     "data": {
      "text/html": [
       "<pre style=\"white-space:pre;overflow-x:auto;line-height:normal;font-family:Menlo,'DejaVu Sans Mono',consolas,'Courier New',monospace\"><span style=\"font-weight: bold\"> Trainable params: </span><span style=\"color: #00af00; text-decoration-color: #00af00\">693,962</span> (2.65 MB)\n",
       "</pre>\n"
      ],
      "text/plain": [
       "\u001b[1m Trainable params: \u001b[0m\u001b[38;5;34m693,962\u001b[0m (2.65 MB)\n"
      ]
     },
     "metadata": {},
     "output_type": "display_data"
    },
    {
     "data": {
      "text/html": [
       "<pre style=\"white-space:pre;overflow-x:auto;line-height:normal;font-family:Menlo,'DejaVu Sans Mono',consolas,'Courier New',monospace\"><span style=\"font-weight: bold\"> Non-trainable params: </span><span style=\"color: #00af00; text-decoration-color: #00af00\">0</span> (0.00 B)\n",
       "</pre>\n"
      ],
      "text/plain": [
       "\u001b[1m Non-trainable params: \u001b[0m\u001b[38;5;34m0\u001b[0m (0.00 B)\n"
      ]
     },
     "metadata": {},
     "output_type": "display_data"
    }
   ],
   "source": [
    "# Build a Sequential model using TensorFlow's Keras API\n",
    "# Add a 2D convolutional layer with 32 filters, each of size (3, 3), using ReLU activation\n",
    "# Input shape is set to (28, 28, 1) for grayscale images of size 28x28 pixels\n",
    "# Add a 2D max pooling layer with pool size (2, 2) to reduce spatial dimensions\n",
    "# Flatten the output to a 1D array to connect it to densely connected layers\n",
    "# Add a densely connected layer with 128 neurons and ReLU activation\n",
    "# Add the output layer with 10 neurons (for 10 classes) and no activation function specified\n",
    "\n",
    "###\n",
    "### YOUR CODE HERE\n",
    "###\n",
    "\n",
    "model = Sequential()\n",
    "\n",
    "model.add(layers.Conv2D(32, kernel_size=(3, 3), activation='relu', input_shape=(28, 28, 1)))\n",
    "model.add(layers.MaxPooling2D(pool_size=(2, 2)))\n",
    "model.add(layers.Flatten())\n",
    "model.add(layers.Dense(128, activation='relu'))\n",
    "model.add(layers.Dense(10, activation='softmax'))\n",
    "\n",
    "model.summary()"
   ]
  },
  {
   "cell_type": "markdown",
   "id": "e04ee0c1",
   "metadata": {
    "cellIdentifier": "c49d106gqwm504jy5alyo2",
    "deletable": false,
    "editable": false,
    "nbgrader": {
     "grade": false,
     "locked": true,
     "solution": false
    }
   },
   "source": [
    "6. Compile the model."
   ]
  },
  {
   "cell_type": "code",
   "execution_count": 35,
   "id": "9b98ca29",
   "metadata": {
    "cellIdentifier": "s4waxfxicgsdaruz8m8zlr",
    "colab": {
     "base_uri": "https://localhost:8080/"
    },
    "id": "9b98ca29",
    "outputId": "5de64132-062f-496b-ad91-2aac1a933dfe"
   },
   "outputs": [],
   "source": [
    "###\n",
    "### YOUR CODE HERE\n",
    "###\n",
    "model.compile(optimizer='adam',\n",
    "              loss= 'sparse_categorical_crossentropy',\n",
    "              metrics = ['accuracy'])"
   ]
  },
  {
   "cell_type": "markdown",
   "id": "6d49bb1b",
   "metadata": {
    "cellIdentifier": "osgl420vg8lrcribsltaed",
    "deletable": false,
    "editable": false,
    "nbgrader": {
     "grade": false,
     "locked": true,
     "solution": false
    }
   },
   "source": [
    "7. Train the model."
   ]
  },
  {
   "cell_type": "code",
   "execution_count": 37,
   "id": "ee4374c2",
   "metadata": {
    "cellIdentifier": "vv4oped2nq5s4atk9zd2q",
    "colab": {
     "base_uri": "https://localhost:8080/"
    },
    "id": "ee4374c2",
    "outputId": "ad4ef346-c17c-4ece-fa29-d92467c3c8d6"
   },
   "outputs": [
    {
     "name": "stdout",
     "output_type": "stream",
     "text": [
      "Epoch 1/5\n",
      "\u001b[1m1875/1875\u001b[0m \u001b[32m━━━━━━━━━━━━━━━━━━━━\u001b[0m\u001b[37m\u001b[0m \u001b[1m9s\u001b[0m 5ms/step - accuracy: 0.8129 - loss: 0.5310\n",
      "Epoch 2/5\n",
      "\u001b[1m1875/1875\u001b[0m \u001b[32m━━━━━━━━━━━━━━━━━━━━\u001b[0m\u001b[37m\u001b[0m \u001b[1m9s\u001b[0m 5ms/step - accuracy: 0.9030 - loss: 0.2687\n",
      "Epoch 3/5\n",
      "\u001b[1m1875/1875\u001b[0m \u001b[32m━━━━━━━━━━━━━━━━━━━━\u001b[0m\u001b[37m\u001b[0m \u001b[1m9s\u001b[0m 5ms/step - accuracy: 0.9203 - loss: 0.2144\n",
      "Epoch 4/5\n",
      "\u001b[1m1875/1875\u001b[0m \u001b[32m━━━━━━━━━━━━━━━━━━━━\u001b[0m\u001b[37m\u001b[0m \u001b[1m9s\u001b[0m 5ms/step - accuracy: 0.9330 - loss: 0.1825\n",
      "Epoch 5/5\n",
      "\u001b[1m1875/1875\u001b[0m \u001b[32m━━━━━━━━━━━━━━━━━━━━\u001b[0m\u001b[37m\u001b[0m \u001b[1m10s\u001b[0m 5ms/step - accuracy: 0.9456 - loss: 0.1477\n"
     ]
    }
   ],
   "source": [
    "###\n",
    "### YOUR CODE HERE\n",
    "###\n",
    "Model_History = model.fit(x_train, y_train, epochs=5)"
   ]
  },
  {
   "cell_type": "markdown",
   "id": "c3f7da6a",
   "metadata": {
    "cellIdentifier": "h3r8sey32r6pf4y8jz02p",
    "deletable": false,
    "editable": false,
    "nbgrader": {
     "grade": false,
     "locked": true,
     "solution": false
    }
   },
   "source": [
    "8. Evaluate the model."
   ]
  },
  {
   "cell_type": "code",
   "execution_count": 39,
   "id": "043f0595",
   "metadata": {
    "cellIdentifier": "rtnacbvqxta4t4anp7ny",
    "colab": {
     "base_uri": "https://localhost:8080/"
    },
    "id": "043f0595",
    "outputId": "21a22711-6367-4281-c642-aff3490e218f"
   },
   "outputs": [
    {
     "name": "stdout",
     "output_type": "stream",
     "text": [
      "\u001b[1m313/313\u001b[0m \u001b[32m━━━━━━━━━━━━━━━━━━━━\u001b[0m\u001b[37m\u001b[0m \u001b[1m1s\u001b[0m 2ms/step - accuracy: 0.9081 - loss: 0.2686\n",
      "Test Loss:  0.2643318474292755\n",
      "Test Accuracy:  0.9081000089645386\n"
     ]
    }
   ],
   "source": [
    "###\n",
    "### YOUR CODE HERE\n",
    "###\n",
    "test_loss, test_acc = model.evaluate(x_test, y_test)\n",
    "print('Test Loss: ', test_loss)\n",
    "print('Test Accuracy: ', test_acc)"
   ]
  },
  {
   "cell_type": "code",
   "execution_count": 40,
   "id": "fdbdfdf4",
   "metadata": {},
   "outputs": [
    {
     "name": "stdout",
     "output_type": "stream",
     "text": [
      "\u001b[1m313/313\u001b[0m \u001b[32m━━━━━━━━━━━━━━━━━━━━\u001b[0m\u001b[37m\u001b[0m \u001b[1m1s\u001b[0m 2ms/step\n",
      "Item (0)   Actual label : Ankle boot  --  Predicted label :  Ankle boot    ---   Correct :)\n",
      "Item (500)   Actual label : Pullover  --  Predicted label :  Pullover    ---   Correct :)\n",
      "Item (1000)   Actual label : T-shirt/top  --  Predicted label :  Shirt    ---   Incorrect  ^U^\n",
      "Item (1500)   Actual label : Dress  --  Predicted label :  Dress    ---   Correct :)\n",
      "Item (2000)   Actual label : Bag  --  Predicted label :  Bag    ---   Correct :)\n",
      "Item (2500)   Actual label : Shirt  --  Predicted label :  Shirt    ---   Correct :)\n",
      "Item (3000)   Actual label : Trouser  --  Predicted label :  Trouser    ---   Correct :)\n",
      "Item (3500)   Actual label : T-shirt/top  --  Predicted label :  T-shirt/top    ---   Correct :)\n",
      "Item (4000)   Actual label : T-shirt/top  --  Predicted label :  T-shirt/top    ---   Correct :)\n",
      "Item (4500)   Actual label : Coat  --  Predicted label :  Coat    ---   Correct :)\n",
      "Item (5000)   Actual label : Pullover  --  Predicted label :  Pullover    ---   Correct :)\n",
      "Item (5500)   Actual label : Sneaker  --  Predicted label :  Sneaker    ---   Correct :)\n",
      "Item (6000)   Actual label : Trouser  --  Predicted label :  Trouser    ---   Correct :)\n",
      "Item (6500)   Actual label : Coat  --  Predicted label :  Coat    ---   Correct :)\n",
      "Item (7000)   Actual label : Bag  --  Predicted label :  Bag    ---   Correct :)\n",
      "Item (7500)   Actual label : Sandal  --  Predicted label :  Sandal    ---   Correct :)\n",
      "Item (8000)   Actual label : Sneaker  --  Predicted label :  Sneaker    ---   Correct :)\n",
      "Item (8500)   Actual label : Pullover  --  Predicted label :  Pullover    ---   Correct :)\n",
      "Item (9000)   Actual label : Shirt  --  Predicted label :  Shirt    ---   Correct :)\n",
      "Item (9500)   Actual label : Bag  --  Predicted label :  Bag    ---   Correct :)\n"
     ]
    }
   ],
   "source": [
    "class_names = ['T-shirt/top', 'Trouser', 'Pullover', 'Dress', 'Coat','Sandal', 'Shirt', 'Sneaker', 'Bag', 'Ankle boot']\n",
    "\n",
    "predictions = model.predict(x_test)\n",
    "for test_case in range(0, len(predictions), 500):\n",
    "\n",
    "    predicted_label = class_names[np.argmax(predictions[test_case])]\n",
    "    print(f'Item ({test_case})   Actual label : {class_names[y_test[test_case]]}  --  Predicted label :  {predicted_label}    ---   {\"Correct :)\" if predicted_label == class_names[y_test[test_case]] else \"Incorrect  ^U^\"}')"
   ]
  },
  {
   "cell_type": "code",
   "execution_count": 45,
   "id": "ba172978",
   "metadata": {},
   "outputs": [
    {
     "name": "stdout",
     "output_type": "stream",
     "text": [
      "{'accuracy': [0.8619833588600159, 0.9052333235740662, 0.9200999736785889, 0.9330166578292847, 0.9420666694641113], 'loss': [0.3903390169143677, 0.25946444272994995, 0.21474063396453857, 0.18120123445987701, 0.15343491733074188]}\n"
     ]
    },
    {
     "data": {
      "image/png": "[encoded data removed]",
      "text/plain": [
       "<Figure size 1200x600 with 1 Axes>"
      ]
     },
     "metadata": {},
     "output_type": "display_data"
    }
   ],
   "source": [
    "# Plotting Training & Validation Loss\n",
    "plt.figure(figsize=(12, 6))\n",
    "\n",
    "# Accuracy plot\n",
    "plt.subplot(1, 1, 1)\n",
    "print(Model_History.history)\n",
    "plt.plot(Model_History.history['accuracy'], label='accuracy')\n",
    "plt.plot(Model_History.history['loss'], label='loss')\n",
    "plt.title('Training Accuracy and Loss')\n",
    "plt.xlabel('Epochs')\n",
    "plt.legend()\n",
    "\n",
    "\n",
    "\n",
    "plt.tight_layout()\n",
    "plt.show()"
   ]
  }
 ],
 "metadata": {
  "colab": {
   "provenance": []
  },
  "kernelspec": {
   "display_name": "Python 3",
   "language": "python",
   "name": "python3"
  },
  "language_info": {
   "codemirror_mode": {
    "name": "ipython",
    "version": 3
   },
   "file_extension": ".py",
   "mimetype": "text/x-python",
   "name": "python",
   "nbconvert_exporter": "python",
   "pygments_lexer": "ipython3",
   "version": "3.10.6"
  }
 },
 "nbformat": 4,
 "nbformat_minor": 5
}
